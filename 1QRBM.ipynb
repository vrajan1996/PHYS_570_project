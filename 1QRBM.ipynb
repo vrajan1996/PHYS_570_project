{
 "cells": [
  {
   "cell_type": "code",
   "execution_count": null,
   "metadata": {},
   "outputs": [],
   "source": [
    "from ibm_quantum_widgets import CircuitComposer\n",
    "from qiskit import QuantumRegister, ClassicalRegister, QuantumCircuit\n",
    "from numpy import *\n",
    "from math import *\n",
    "from qiskit import QuantumCircuit\n",
    "from qiskit import Aer, transpile\n",
    "from qiskit.tools.visualization import plot_histogram, plot_state_city\n",
    "import qiskit.quantum_info as qi\n",
    "\n",
    "\n",
    "# Input parameters (a1,a2,b1,b2,w11,w12,w21,w22)\n",
    "a =[0,0];\n",
    "b =[0,0];\n",
    "\n",
    "w11 =0;\n",
    "w12 =0;\n",
    "w21 =0;\n",
    "w22 =0;\n",
    "\n",
    "# Assigning qubit rotation angles using the above parameters\n",
    "\n",
    "theta =[0,0];\n",
    "gamma =[0,0];\n",
    "\n",
    "theta[0] = 2*asin(sqrt(exp(a[0])/(exp(a[0]) + exp(-a[0]))));\n",
    "theta[1] = 2*asin(sqrt(exp(a[1])/(exp(a[1]) + exp(-a[1]))));\n",
    "\n",
    "\n",
    "gamma[0] = 2*asin(sqrt(exp(b[0])/(exp(b[0]) + exp(-b[0]))));\n",
    "gamma[1] = 2*asin(sqrt(exp(b[1])/(exp(b[1]) + exp(-b[1]))));\n",
    "\n",
    "THETA = [0,0];\n",
    "\n",
    "#initialising ccry gate 0\n",
    "qreg = QuantumRegister(3, 'q')\n",
    "ccry = QuantumCircuit(qreg)\n",
    "\n",
    "ccry.cry(THETA[0] / 2, qreg[1], qreg[2])\n",
    "ccry.cx(qreg[0], qreg[1])\n",
    "ccry.cry(-THETA[0] / 2, qreg[1], qreg[2])\n",
    "ccry.cx(qreg[0], qreg[1])\n",
    "ccry.cry(THETA[0] / 2, qreg[0], qreg[2])\n",
    "\n",
    "CCRY0 = ccry.to_instruction()\n",
    "\n",
    "#initialising ccry gate 1\n",
    "qreg = QuantumRegister(3, 'q')\n",
    "ccry = QuantumCircuit(qreg)\n",
    "\n",
    "ccry.cry(THETA[1] / 2, qreg[1], qreg[2])\n",
    "ccry.cx(qreg[0], qreg[1])\n",
    "ccry.cry(-THETA[1] / 2, qreg[1], qreg[2])\n",
    "ccry.cx(qreg[0], qreg[1])\n",
    "ccry.cry(THETA[1] / 2, qreg[0], qreg[2])\n",
    "\n",
    "CCRY1 = ccry.to_instruction()\n",
    "\n",
    "\n",
    "# The actual circuit(4 visible units + 4 hidden units)\n",
    "qreg_q = QuantumRegister(8, 'q')\n",
    "creg_c = ClassicalRegister(8, 'c')\n",
    "circuit = QuantumCircuit(qreg_q, creg_c)\n",
    "\n",
    "circuit.ry(theta[0], qreg_q[0])\n",
    "circuit.ry(theta[1], qreg_q[1])\n",
    "circuit.ry(gamma[0], qreg_q[2])\n",
    "circuit.ry(gamma[1], qreg_q[3])\n",
    "\n",
    "# Circuit barrier\n",
    "\n",
    "circuit.barrier(qreg_q[0])\n",
    "circuit.barrier(qreg_q[1])\n",
    "circuit.barrier(qreg_q[2])\n",
    "circuit.barrier(qreg_q[3])\n",
    "circuit.barrier(qreg_q[4])\n",
    "circuit.barrier(qreg_q[5])\n",
    "circuit.barrier(qreg_q[6])\n",
    "circuit.barrier(qreg_q[7])\n",
    "\n",
    "#Appending ccry gates (update it after talking to Manas\n",
    "\n",
    "circuit.append(CCRY0, [0,2,4]);\n",
    "circuit.append(CCRY0, [0,3,5]);\n",
    "circuit.append(CCRY1, [1,2,6]);\n",
    "circuit.append(CCRY1, [1,3,7]);\n",
    "\n",
    "# Measurements\n",
    "circuit.measure(qreg_q[0], creg_c[0])\n",
    "circuit.measure(qreg_q[1], creg_c[1])\n",
    "circuit.measure(qreg_q[2], creg_c[2])\n",
    "circuit.measure(qreg_q[3], creg_c[3])\n",
    "circuit.measure(qreg_q[4], creg_c[4])\n",
    "circuit.measure(qreg_q[5], creg_c[5])\n",
    "circuit.measure(qreg_q[6], creg_c[6])\n",
    "circuit.measure(qreg_q[7], creg_c[7])\n",
    "\n",
    "\n",
    "# Transpile for simulator\n",
    "simulator = Aer.get_backend('aer_simulator')\n",
    "circ = transpile(circuit, simulator)\n",
    "\n",
    "# Run and get counts\n",
    "result = simulator.run(circ).result()\n",
    "counts = result.get_counts(circ, shots =10000)\n",
    "plot_histogram(counts, title='Counts')\n"
   ]
  },
  {
   "cell_type": "code",
   "execution_count": 4,
   "metadata": {},
   "outputs": [],
   "source": [
    "from numpy import *\n",
    "from math import *\n",
    "\n",
    "theta = [0,0]"
   ]
  },
  {
   "cell_type": "code",
   "execution_count": 9,
   "metadata": {},
   "outputs": [
    {
     "data": {
      "text/plain": [
       "2"
      ]
     },
     "execution_count": 9,
     "metadata": {},
     "output_type": "execute_result"
    }
   ],
   "source": [
    "abs(-2)"
   ]
  },
  {
   "cell_type": "code",
   "execution_count": 7,
   "metadata": {},
   "outputs": [
    {
     "data": {
      "text/plain": [
       "2.718281828459045"
      ]
     },
     "execution_count": 7,
     "metadata": {},
     "output_type": "execute_result"
    }
   ],
   "source": [
    "exp(1)"
   ]
  },
  {
   "cell_type": "code",
   "execution_count": 21,
   "metadata": {},
   "outputs": [
    {
     "data": {
      "text/plain": [
       "{'00001011': 58,\n",
       " '00001001': 70,\n",
       " '00001000': 66,\n",
       " '00000100': 54,\n",
       " '00000110': 56,\n",
       " '00001101': 61,\n",
       " '00000101': 53,\n",
       " '00001100': 62,\n",
       " '00000001': 61,\n",
       " '00000010': 61,\n",
       " '00000011': 68,\n",
       " '00000111': 78,\n",
       " '00000000': 71,\n",
       " '00001110': 75,\n",
       " '00001111': 65,\n",
       " '00001010': 65}"
      ]
     },
     "execution_count": 21,
     "metadata": {},
     "output_type": "execute_result"
    }
   ],
   "source": [
    "counts"
   ]
  },
  {
   "cell_type": "code",
   "execution_count": null,
   "metadata": {},
   "outputs": [],
   "source": []
  }
 ],
 "metadata": {
  "kernelspec": {
   "display_name": "Python 3 (ipykernel)",
   "language": "python",
   "name": "python3"
  },
  "language_info": {
   "codemirror_mode": {
    "name": "ipython",
    "version": 3
   },
   "file_extension": ".py",
   "mimetype": "text/x-python",
   "name": "python",
   "nbconvert_exporter": "python",
   "pygments_lexer": "ipython3",
   "version": "3.8.13"
  },
  "widgets": {
   "application/vnd.jupyter.widget-state+json": {
    "state": {
     "50e23b146cbc4f3bb0ee5e20326b6869": {
      "model_module": "ibm-q-lab-widgets-extension",
      "model_module_version": "^3.0.0",
      "model_name": "CircuitComposerModel",
      "state": {
       "_model_module_version": "^3.0.0",
       "_view_module_version": "^3.0.0",
       "circuit": "\"OPENQASM 2.0;\\ninclude \\\"qelib1.inc\\\";\\ngate circuit_155 q0,q1,q2 { cry(0) q1,q2; cx q0,q1; cry(0) q1,q2; cx q0,q1; cry(0) q0,q2; }\\ngate circuit_158 q0,q1,q2 { cry(0) q1,q2; cx q0,q1; cry(0) q1,q2; cx q0,q1; cry(0) q0,q2; }\\nqreg q[8];\\ncreg c[8];\\nry(pi/2) q[0];\\nry(pi/2) q[1];\\nry(pi/2) q[2];\\nry(pi/2) q[3];\\nbarrier q[0];\\nbarrier q[1];\\nbarrier q[2];\\nbarrier q[3];\\nbarrier q[4];\\nbarrier q[5];\\nbarrier q[6];\\nbarrier q[7];\\ncircuit_155 q[0],q[2],q[4];\\ncircuit_155 q[0],q[3],q[5];\\ncircuit_158 q[1],q[2],q[6];\\ncircuit_158 q[1],q[3],q[7];\\nmeasure q[0] -> c[0];\\nmeasure q[1] -> c[1];\\nmeasure q[2] -> c[2];\\nmeasure q[3] -> c[3];\\nmeasure q[4] -> c[4];\\nmeasure q[5] -> c[5];\\nmeasure q[6] -> c[6];\\nmeasure q[7] -> c[7];\\n\"",
       "editable": true,
       "layout": "IPY_MODEL_e3e7a60a469344c188c90c5981403324",
       "qiskit_code_cell_index": -1
      }
     },
     "613285aa6e084fea891dafdfb258d8f6": {
      "model_module": "ibm-q-lab-widgets-extension",
      "model_module_version": "^3.0.0",
      "model_name": "CircuitComposerModel",
      "state": {
       "_model_module_version": "^3.0.0",
       "_view_module_version": "^3.0.0",
       "circuit": "\"\\\"OPENQASM 2.0;\\\\ninclude \\\\\\\"qelib1.inc\\\\\\\";\\\\nqreg q[8];\\\\ncreg c[8];\\\\nry(pi/2) q[0];\\\\nry(pi/2) q[1];\\\\nry(pi/2) q[2];\\\\nry(pi/2) q[3];\\\\nbarrier q[0];\\\\nbarrier q[1];\\\\nbarrier q[2];\\\\nbarrier q[3];\\\\nbarrier q[4];\\\\nbarrier q[5];\\\\nbarrier q[6];\\\\nbarrier q[7];\\\\nmeasure q[0] -> c[0];\\\\nmeasure q[1] -> c[1];\\\\nmeasure q[2] -> c[2];\\\\nmeasure q[3] -> c[3];\\\\nmeasure q[4] -> c[4];\\\\nmeasure q[5] -> c[5];\\\\nmeasure q[6] -> c[6];\\\\nmeasure q[7] -> c[7];\\\\n\\\"\"",
       "editable": true,
       "layout": "IPY_MODEL_9b52085f2afc4057b2f56562a76cacef",
       "qiskit_code_cell_index": -1
      }
     },
     "914052693ff14009ae6b294f27624e3f": {
      "model_module": "ibm-q-lab-widgets-extension",
      "model_module_version": "^3.0.0",
      "model_name": "CircuitComposerModel",
      "state": {
       "_model_module_version": "^3.0.0",
       "_view_module_version": "^3.0.0",
       "circuit": "\"OPENQASM 2.0;\\ninclude \\\"qelib1.inc\\\";\\ngate circuit_1085 q0,q1,q2 { cry(0) q1,q2; cx q0,q1; cry(0) q1,q2; cx q0,q1; cry(0) q0,q2; }\\ngate circuit_1088 q0,q1,q2 { cry(0) q1,q2; cx q0,q1; cry(0) q1,q2; cx q0,q1; cry(0) q0,q2; }\\nqreg q[8];\\ncreg c[8];\\nry(pi/2) q[0];\\nry(pi/2) q[1];\\nry(pi/2) q[2];\\nry(pi/2) q[3];\\nbarrier q[0];\\nbarrier q[1];\\nbarrier q[2];\\nbarrier q[3];\\nbarrier q[4];\\nbarrier q[5];\\nbarrier q[6];\\nbarrier q[7];\\ncircuit_1085 q[0],q[2],q[4];\\ncircuit_1085 q[0],q[3],q[5];\\ncircuit_1088 q[1],q[2],q[6];\\ncircuit_1088 q[1],q[3],q[7];\\nmeasure q[0] -> c[0];\\nmeasure q[1] -> c[1];\\nmeasure q[2] -> c[2];\\nmeasure q[3] -> c[3];\\nmeasure q[4] -> c[4];\\nmeasure q[5] -> c[5];\\nmeasure q[6] -> c[6];\\nmeasure q[7] -> c[7];\\n\"",
       "editable": true,
       "layout": "IPY_MODEL_e0b628afd7ef4d61a8d5c13f2c65dce6",
       "qiskit_code_cell_index": -1
      }
     },
     "9b52085f2afc4057b2f56562a76cacef": {
      "model_module": "@jupyter-widgets/base",
      "model_module_version": "1.2.0",
      "model_name": "LayoutModel",
      "state": {}
     },
     "a22a60de3768493795c7fa586daf38c1": {
      "model_module": "ibm-q-lab-widgets-extension",
      "model_module_version": "^3.0.0",
      "model_name": "CircuitComposerModel",
      "state": {
       "_model_module_version": "^3.0.0",
       "_view_module_version": "^3.0.0",
       "circuit": "\"\\\"OPENQASM 2.0;\\\\ninclude \\\\\\\"qelib1.inc\\\\\\\";\\\\nqreg q[8];\\\\ncreg c[8];\\\\nry(3.1415019) q[0];\\\\nry(pi/2) q[1];\\\\nry(pi/2) q[2];\\\\nry(pi/2) q[3];\\\\nbarrier q[0];\\\\nbarrier q[1];\\\\nbarrier q[2];\\\\nbarrier q[3];\\\\nbarrier q[4];\\\\nbarrier q[5];\\\\nbarrier q[6];\\\\nbarrier q[7];\\\\nmeasure q[0] -> c[0];\\\\nmeasure q[1] -> c[1];\\\\nmeasure q[2] -> c[2];\\\\nmeasure q[3] -> c[3];\\\\nmeasure q[4] -> c[4];\\\\nmeasure q[5] -> c[5];\\\\nmeasure q[6] -> c[6];\\\\nmeasure q[7] -> c[7];\\\\n\\\"\"",
       "editable": true,
       "layout": "IPY_MODEL_fa71f635f7e7409ebd7ecdcd3d5586aa",
       "qiskit_code_cell_index": -1
      }
     },
     "e0b628afd7ef4d61a8d5c13f2c65dce6": {
      "model_module": "@jupyter-widgets/base",
      "model_module_version": "1.2.0",
      "model_name": "LayoutModel",
      "state": {}
     },
     "e3e7a60a469344c188c90c5981403324": {
      "model_module": "@jupyter-widgets/base",
      "model_module_version": "1.2.0",
      "model_name": "LayoutModel",
      "state": {}
     },
     "fa71f635f7e7409ebd7ecdcd3d5586aa": {
      "model_module": "@jupyter-widgets/base",
      "model_module_version": "1.2.0",
      "model_name": "LayoutModel",
      "state": {}
     }
    },
    "version_major": 2,
    "version_minor": 0
   }
  }
 },
 "nbformat": 4,
 "nbformat_minor": 4
}
