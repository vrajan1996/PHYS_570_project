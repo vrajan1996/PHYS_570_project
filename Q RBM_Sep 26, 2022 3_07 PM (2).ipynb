{
 "cells": [
  {
   "cell_type": "code",
   "execution_count": 26,
   "metadata": {},
   "outputs": [],
   "source": [
    "from ibm_quantum_widgets import CircuitComposer\n",
    "from qiskit import QuantumRegister, ClassicalRegister, QuantumCircuit\n",
    "from numpy import pi\n",
    "\n",
    "qreg_q = QuantumRegister(3, 'q')\n",
    "ccry = QuantumCircuit(qreg_q)\n",
    "\n",
    "ccry.cry(pi / 2, qreg_q[1], qreg_q[2])\n",
    "ccry.cx(qreg_q[0], qreg_q[1])\n",
    "ccry.cry(-pi / 2, qreg_q[1], qreg_q[2])\n",
    "ccry.cx(qreg_q[0], qreg_q[1])\n",
    "ccry.cry(pi / 2, qreg_q[0], qreg_q[2])\n",
    "\n",
    "CCRY = ccry.to_instruction()\n",
    "\n"
   ]
  },
  {
   "cell_type": "code",
   "execution_count": 27,
   "metadata": {},
   "outputs": [
    {
     "data": {
      "application/vnd.jupyter.widget-view+json": {
       "model_id": "54cd03bfccdf4ae985957268a66e96c8",
       "version_major": 2,
       "version_minor": 0
      },
      "text/plain": [
       "CircuitComposer(circuit=<qiskit.circuit.quantumcircuit.QuantumCircuit object at 0x7f4d18d10a90>)"
      ]
     },
     "metadata": {},
     "output_type": "display_data"
    }
   ],
   "source": [
    "# This code is being generated automatically by the IBM Quantum Circuit Composer widget.\n",
    "# It changes in every update of the widget, so any modifications done in this cell will be lost.\n",
    "# State: synchronized\n",
    "\n",
    "from qiskit import QuantumCircuit\n",
    "qasm = \"\"\"\n",
    "OPENQASM 2.0;\n",
    "include \"qelib1.inc\";\n",
    "gate ccry q0, q1, q2 {\n",
    "  cry(pi / 2) q1, q2; cx q0, q1; cry(-pi / 2) q1, q2; cx q0, q1; cry(pi / 2) q0, q2;\n",
    "}\n",
    "gate ccry1 q0, q1, q2 {\n",
    "  cry(pi / 2) q1, q2; cx q0, q1; cry(-pi / 2) q1, q2; cx q0, q1; cry(pi / 2) q0, q2;\n",
    "}\n",
    "gate ccry2 q0, q1, q2 {\n",
    "  cry(pi / 2) q1, q2; cx q0, q1; cry(-pi / 2) q1, q2; cx q0, q1; cry(pi / 2) q0, q2;\n",
    "}\n",
    "gate ccry3 q0, q1, q2 {\n",
    "  cry(pi / 2) q1, q2; cx q0, q1; cry(-pi / 2) q1, q2; cx q0, q1; cry(pi / 2) q0, q2;\n",
    "}\n",
    "qreg q[8];\n",
    "creg c[8];\n",
    "ry(pi / 2) q[0];\n",
    "ry(pi / 2) q[1];\n",
    "ry(pi / 2) q[2];\n",
    "ry(pi / 2) q[3];\n",
    "barrier q[0], q[1], q[2], q[3], q[4], q[5], q[6], q[7];\n",
    "ccry q[0], q[2], q[4];\n",
    "ccry1 q[0], q[3], q[5];\n",
    "ccry2 q[1], q[2], q[6];\n",
    "ccry3 q[1], q[3], q[7];\n",
    "barrier q[0], q[1], q[2], q[3], q[4], q[5], q[6], q[7];\n",
    "measure q[0] -> c[0];\n",
    "measure q[1] -> c[1];\n",
    "measure q[2] -> c[2];\n",
    "measure q[3] -> c[3];\n",
    "measure q[4] -> c[4];\n",
    "measure q[5] -> c[5];\n",
    "measure q[6] -> c[6];\n",
    "measure q[7] -> c[7];\n",
    "\"\"\"\n",
    "\n",
    "circuit = QuantumCircuit.from_qasm_str(qasm)\n",
    "editor = CircuitComposer(circuit=circuit)\n",
    "editor\n"
   ]
  },
  {
   "cell_type": "code",
   "execution_count": null,
   "metadata": {},
   "outputs": [],
   "source": []
  }
 ],
 "metadata": {
  "kernelspec": {
   "display_name": "Python 3 (ipykernel)",
   "language": "python",
   "name": "python3"
  },
  "language_info": {
   "codemirror_mode": {
    "name": "ipython",
    "version": 3
   },
   "file_extension": ".py",
   "mimetype": "text/x-python",
   "name": "python",
   "nbconvert_exporter": "python",
   "pygments_lexer": "ipython3",
   "version": "3.8.13"
  },
  "widgets": {
   "application/vnd.jupyter.widget-state+json": {
    "state": {
     "444fbececba143c4b62cb4e5a8ce6774": {
      "model_module": "@jupyter-widgets/base",
      "model_module_version": "1.2.0",
      "model_name": "LayoutModel",
      "state": {}
     },
     "4a10e117109b4b268c479f6d6be39522": {
      "model_module": "@jupyter-widgets/base",
      "model_module_version": "1.2.0",
      "model_name": "LayoutModel",
      "state": {}
     },
     "4dfa2a8e688242479e0e4f8bab500c29": {
      "model_module": "ibm-q-lab-widgets-extension",
      "model_module_version": "^3.0.0",
      "model_name": "CircuitComposerModel",
      "state": {
       "_model_module_version": "^3.0.0",
       "_view_module_version": "^3.0.0",
       "circuit": "\"OPENQASM 2.0;\\ninclude \\\"qelib1.inc\\\";\\nqreg q[8];\\ncreg c[8];\\nry(pi/2) q[0];\\nry(pi/2) q[1];\\nry(pi/2) q[2];\\nry(pi/2) q[3];\\ncry(pi/2) q[2],q[4];\\ncx q[0],q[2];\\ncry(-pi/2) q[2],q[4];\\ncx q[0],q[2];\\ncry(pi/2) q[0],q[4];\\n\"",
       "editable": true,
       "layout": "IPY_MODEL_4a10e117109b4b268c479f6d6be39522",
       "qiskit_code_cell_index": -1
      }
     },
     "54cd03bfccdf4ae985957268a66e96c8": {
      "model_module": "ibm-q-lab-widgets-extension",
      "model_module_version": "^3.0.0",
      "model_name": "CircuitComposerModel",
      "state": {
       "_model_module_version": "^3.0.0",
       "_view_module_version": "^3.0.0",
       "circuit": "\"OPENQASM 2.0;\\ninclude \\\"qelib1.inc\\\";\\ngate ccry q0,q1,q2 { cry(pi/2) q1,q2; cx q0,q1; cry(-pi/2) q1,q2; cx q0,q1; cry(pi/2) q0,q2; }\\ngate ccry1 q0,q1,q2 { cry(pi/2) q1,q2; cx q0,q1; cry(-pi/2) q1,q2; cx q0,q1; cry(pi/2) q0,q2; }\\ngate ccry2 q0,q1,q2 { cry(pi/2) q1,q2; cx q0,q1; cry(-pi/2) q1,q2; cx q0,q1; cry(pi/2) q0,q2; }\\ngate ccry3 q0,q1,q2 { cry(pi/2) q1,q2; cx q0,q1; cry(-pi/2) q1,q2; cx q0,q1; cry(pi/2) q0,q2; }\\nqreg q[8];\\ncreg c[8];\\nry(pi/2) q[0];\\nry(pi/2) q[1];\\nry(pi/2) q[2];\\nry(pi/2) q[3];\\nbarrier q[0],q[1],q[2],q[3],q[4],q[5],q[6],q[7];\\nccry q[0],q[2],q[4];\\nccry1 q[0],q[3],q[5];\\nccry2 q[1],q[2],q[6];\\nccry3 q[1],q[3],q[7];\\nbarrier q[0],q[1],q[2],q[3],q[4],q[5],q[6],q[7];\\nmeasure q[0] -> c[0];\\nmeasure q[1] -> c[1];\\nmeasure q[2] -> c[2];\\nmeasure q[3] -> c[3];\\nmeasure q[4] -> c[4];\\nmeasure q[5] -> c[5];\\nmeasure q[6] -> c[6];\\nmeasure q[7] -> c[7];\\n\"",
       "editable": true,
       "layout": "IPY_MODEL_90a02b00a8b44c27bb9ea0cc1d5bb6dd",
       "qiskit_code_cell_index": -1
      }
     },
     "585c51c4fa054e19b1477fae4fc34f6f": {
      "model_module": "@jupyter-widgets/base",
      "model_module_version": "1.2.0",
      "model_name": "LayoutModel",
      "state": {}
     },
     "69fb049fb9184895b3358a41e88ca4a5": {
      "model_module": "ibm-q-lab-widgets-extension",
      "model_module_version": "^3.0.0",
      "model_name": "CircuitComposerModel",
      "state": {
       "_model_module_version": "^3.0.0",
       "_view_module_version": "^3.0.0",
       "circuit": "\"OPENQASM 2.0;\\ninclude \\\"qelib1.inc\\\";\\nqreg q[8];\\ncreg c[8];\\nry(pi/2) q[0];\\nry(pi/2) q[1];\\nry(pi/2) q[2];\\nry(pi/2) q[3];\\ncry(pi/2) q[2],q[4];\\ncx q[0],q[2];\\ncry(-pi/2) q[2],q[4];\\ncx q[0],q[2];\\ncry(pi/2) q[0],q[4];\\n\"",
       "editable": true,
       "layout": "IPY_MODEL_444fbececba143c4b62cb4e5a8ce6774",
       "qiskit_code_cell_index": -1
      }
     },
     "6da0e075a98a40538f0d9d420a255219": {
      "model_module": "@jupyter-widgets/base",
      "model_module_version": "1.2.0",
      "model_name": "LayoutModel",
      "state": {}
     },
     "8b78c9f2790547698317e2833b077e2d": {
      "model_module": "@jupyter-widgets/base",
      "model_module_version": "1.2.0",
      "model_name": "LayoutModel",
      "state": {}
     },
     "8f66c9b4af114099b40d7d7e63fbfa88": {
      "model_module": "ibm-q-lab-widgets-extension",
      "model_module_version": "^3.0.0",
      "model_name": "CircuitComposerModel",
      "state": {
       "_model_module_version": "^3.0.0",
       "_view_module_version": "^3.0.0",
       "circuit": "\"OPENQASM 2.0;\\ninclude \\\"qelib1.inc\\\";\\ngate circuit_42794 q0,q1,q2 { cry(pi/2) q1,q2; cx q0,q1; cry(-pi/2) q1,q2; cx q0,q1; cry(pi/2) q0,q2; }\\nqreg q[8];\\ncreg c[8];\\nry(pi/2) q[0];\\nry(pi/2) q[1];\\nry(pi/2) q[2];\\nry(pi/2) q[3];\\ncry(pi/2) q[2],q[4];\\ncx q[0],q[2];\\ncry(-pi/2) q[2],q[4];\\ncx q[0],q[2];\\ncry(pi/2) q[0],q[4];\\ncircuit_42794 q[0],q[2],q[4];\\n\"",
       "editable": true,
       "layout": "IPY_MODEL_d9be14959981478a9af825ce12dc081d",
       "qiskit_code_cell_index": -1
      }
     },
     "90a02b00a8b44c27bb9ea0cc1d5bb6dd": {
      "model_module": "@jupyter-widgets/base",
      "model_module_version": "1.2.0",
      "model_name": "LayoutModel",
      "state": {}
     },
     "b9d5c50cdab64888a0fe535eeadfeb7e": {
      "model_module": "ibm-q-lab-widgets-extension",
      "model_module_version": "^3.0.0",
      "model_name": "CircuitComposerModel",
      "state": {
       "_model_module_version": "^3.0.0",
       "_view_module_version": "^3.0.0",
       "circuit": "\"OPENQASM 2.0;\\ninclude \\\"qelib1.inc\\\";\\ngate ccry q0,q1,q2 { cry(pi/2) q1,q2; cx q0,q1; cry(-pi/2) q1,q2; cx q0,q1; cry(pi/2) q0,q2; }\\ngate ccry1 q0,q1,q2 { cry(pi/2) q1,q2; cx q0,q1; cry(-pi/2) q1,q2; cx q0,q1; cry(pi/2) q0,q2; }\\ngate ccry2 q0,q1,q2 { cry(pi/2) q1,q2; cx q0,q1; cry(-pi/2) q1,q2; cx q0,q1; cry(pi/2) q0,q2; }\\ngate ccry3 q0,q1,q2 { cry(pi/2) q1,q2; cx q0,q1; cry(-pi/2) q1,q2; cx q0,q1; cry(pi/2) q0,q2; }\\nqreg q[8];\\ncreg c[8];\\nry(pi/2) q[0];\\nry(pi/2) q[1];\\nry(pi/2) q[2];\\nry(pi/2) q[3];\\nbarrier q[0],q[1],q[2],q[3],q[4],q[5],q[6],q[7];\\nccry q[0],q[2],q[4];\\nccry1 q[0],q[3],q[5];\\nccry2 q[1],q[2],q[6];\\nccry3 q[1],q[3],q[7];\\nbarrier q[0],q[1],q[2],q[3],q[4],q[5],q[6],q[7];\\nmeasure q[0] -> c[0];\\nmeasure q[1] -> c[1];\\nmeasure q[2] -> c[2];\\nmeasure q[3] -> c[3];\\nmeasure q[4] -> c[4];\\nmeasure q[5] -> c[5];\\nmeasure q[6] -> c[6];\\nmeasure q[7] -> c[7];\\n\"",
       "editable": true,
       "layout": "IPY_MODEL_6da0e075a98a40538f0d9d420a255219",
       "qiskit_code_cell_index": -1
      }
     },
     "d251b406c828423c8b827b6a00fb12d6": {
      "model_module": "ibm-q-lab-widgets-extension",
      "model_module_version": "^3.0.0",
      "model_name": "CircuitComposerModel",
      "state": {
       "_model_module_version": "^3.0.0",
       "_view_module_version": "^3.0.0",
       "circuit": "\"OPENQASM 2.0;\\ninclude \\\"qelib1.inc\\\";\\ngate ccry q0,q1,q2 { cry(pi/2) q1,q2; cx q0,q1; cry(-pi/2) q1,q2; cx q0,q1; cry(pi/2) q0,q2; }\\ngate ccry1 q0,q1,q2 { cry(pi/2) q1,q2; cx q0,q1; cry(-pi/2) q1,q2; cx q0,q1; cry(pi/2) q0,q2; }\\ngate ccry2 q0,q1,q2 { cry(pi/2) q1,q2; cx q0,q1; cry(-pi/2) q1,q2; cx q0,q1; cry(pi/2) q0,q2; }\\ngate ccry3 q0,q1,q2 { cry(pi/2) q1,q2; cx q0,q1; cry(-pi/2) q1,q2; cx q0,q1; cry(pi/2) q0,q2; }\\nqreg q[8];\\ncreg c[8];\\nry(pi/2) q[0];\\nry(pi/2) q[1];\\nry(pi/2) q[2];\\nry(pi/2) q[3];\\nbarrier q[0],q[1],q[2],q[3],q[4],q[5],q[6],q[7];\\nccry q[0],q[2],q[4];\\nccry1 q[0],q[3],q[5];\\nccry2 q[1],q[2],q[6];\\nccry3 q[1],q[3],q[7];\\nbarrier q[0],q[1],q[2],q[3],q[4],q[5],q[6],q[7];\\nmeasure q[0] -> c[0];\\nmeasure q[1] -> c[1];\\nmeasure q[2] -> c[2];\\nmeasure q[3] -> c[3];\\nmeasure q[4] -> c[4];\\nmeasure q[5] -> c[5];\\n\"",
       "editable": true,
       "layout": "IPY_MODEL_f138c08c03a04319ad128bb263973fb0",
       "qiskit_code_cell_index": -1
      }
     },
     "d9be14959981478a9af825ce12dc081d": {
      "model_module": "@jupyter-widgets/base",
      "model_module_version": "1.2.0",
      "model_name": "LayoutModel",
      "state": {}
     },
     "f138c08c03a04319ad128bb263973fb0": {
      "model_module": "@jupyter-widgets/base",
      "model_module_version": "1.2.0",
      "model_name": "LayoutModel",
      "state": {}
     },
     "fbce8a639a524824971bf9ddee7489bc": {
      "model_module": "ibm-q-lab-widgets-extension",
      "model_module_version": "^3.0.0",
      "model_name": "CircuitComposerModel",
      "state": {
       "_model_module_version": "^3.0.0",
       "_view_module_version": "^3.0.0",
       "circuit": "\"OPENQASM 2.0;\\ninclude \\\"qelib1.inc\\\";\\ngate ccry q0,q1,q2 { cry(pi/2) q1,q2; cx q0,q1; cry(-pi/2) q1,q2; cx q0,q1; cry(pi/2) q0,q2; }\\ngate ccry1 q0,q1,q2 { cry(pi/2) q1,q2; cx q0,q1; cry(-pi/2) q1,q2; cx q0,q1; cry(pi/2) q0,q2; }\\ngate ccry2 q0,q1,q2 { cry(pi/2) q1,q2; cx q0,q1; cry(-pi/2) q1,q2; cx q0,q1; cry(pi/2) q0,q2; }\\ngate ccry3 q0,q1,q2 { cry(pi/2) q1,q2; cx q0,q1; cry(-pi/2) q1,q2; cx q0,q1; cry(pi/2) q0,q2; }\\nqreg q[8];\\ncreg c[8];\\nry(pi/2) q[0];\\nry(pi/2) q[1];\\nry(pi/2) q[2];\\nry(pi/2) q[3];\\nbarrier q[0],q[1],q[2],q[3],q[4],q[5],q[6],q[7];\\nccry q[0],q[2],q[4];\\nccry1 q[0],q[3],q[5];\\nccry2 q[1],q[2],q[6];\\nccry3 q[1],q[3],q[7];\\nbarrier q[0],q[1],q[2],q[3],q[4],q[5],q[6],q[7];\\nmeasure q[0] -> c[0];\\nmeasure q[1] -> c[1];\\nmeasure q[2] -> c[2];\\nmeasure q[3] -> c[3];\\nmeasure q[4] -> c[4];\\nmeasure q[5] -> c[5];\\n\"",
       "editable": true,
       "layout": "IPY_MODEL_8b78c9f2790547698317e2833b077e2d",
       "qiskit_code_cell_index": 1
      }
     },
     "fff5116c33ab423e9dbee5b9ce028c9d": {
      "model_module": "ibm-q-lab-widgets-extension",
      "model_module_version": "^3.0.0",
      "model_name": "CircuitComposerModel",
      "state": {
       "_model_module_version": "^3.0.0",
       "_view_module_version": "^3.0.0",
       "circuit": "\"OPENQASM 2.0;\\ninclude \\\"qelib1.inc\\\";\\ngate ccry q0,q1,q2 { cry(pi/2) q1,q2; cx q0,q1; cry(-pi/2) q1,q2; cx q0,q1; cry(pi/2) q0,q2; }\\ngate ccry1 q0,q1,q2 { cry(pi/2) q1,q2; cx q0,q1; cry(-pi/2) q1,q2; cx q0,q1; cry(pi/2) q0,q2; }\\ngate ccry2 q0,q1,q2 { cry(pi/2) q1,q2; cx q0,q1; cry(-pi/2) q1,q2; cx q0,q1; cry(pi/2) q0,q2; }\\ngate ccry3 q0,q1,q2 { cry(pi/2) q1,q2; cx q0,q1; cry(-pi/2) q1,q2; cx q0,q1; cry(pi/2) q0,q2; }\\nqreg q[8];\\ncreg c[8];\\nry(pi/2) q[0];\\nry(pi/2) q[1];\\nry(pi/2) q[2];\\nry(pi/2) q[3];\\nbarrier q[0],q[1],q[2],q[3],q[4],q[5],q[6],q[7];\\nccry q[0],q[2],q[4];\\nccry1 q[0],q[3],q[5];\\nccry2 q[1],q[2],q[6];\\nccry3 q[1],q[3],q[7];\\nbarrier q[0],q[1],q[2],q[3],q[4],q[5],q[6],q[7];\\nmeasure q[4] -> c[4];\\nmeasure q[5] -> c[5];\\nmeasure q[6] -> c[6];\\nmeasure q[7] -> c[7];\\n\"",
       "editable": true,
       "layout": "IPY_MODEL_585c51c4fa054e19b1477fae4fc34f6f",
       "qiskit_code_cell_index": 1
      }
     }
    },
    "version_major": 2,
    "version_minor": 0
   }
  }
 },
 "nbformat": 4,
 "nbformat_minor": 4
}
