{
 "cells": [
  {
   "cell_type": "code",
   "execution_count": 6,
   "id": "2fd6bbf3",
   "metadata": {},
   "outputs": [],
   "source": [
    "from numpy import *"
   ]
  },
  {
   "cell_type": "code",
   "execution_count": 18,
   "id": "1fd86431",
   "metadata": {},
   "outputs": [],
   "source": [
    "# length units - Angstrom"
   ]
  },
  {
   "cell_type": "code",
   "execution_count": 42,
   "id": "69aacd1f",
   "metadata": {},
   "outputs": [],
   "source": [
    "a1 = array([2.47*sqrt(3)/2,2.47/2])"
   ]
  },
  {
   "cell_type": "code",
   "execution_count": 41,
   "id": "7bf311bc",
   "metadata": {},
   "outputs": [],
   "source": [
    "a2 = array([2.47*sqrt(3)/2,-2.47/2])"
   ]
  },
  {
   "cell_type": "code",
   "execution_count": 17,
   "id": "e6fd0296",
   "metadata": {},
   "outputs": [],
   "source": [
    "#Energy units-eV"
   ]
  },
  {
   "cell_type": "code",
   "execution_count": 35,
   "id": "f11e82a8",
   "metadata": {},
   "outputs": [],
   "source": [
    "tc = 1.994\n",
    "\n",
    "t1 = 2.86\n",
    "t2 = -0.236\n",
    "t3 = 0.252\n",
    "U=9.3"
   ]
  },
  {
   "cell_type": "code",
   "execution_count": 36,
   "id": "df844043",
   "metadata": {},
   "outputs": [],
   "source": [
    "def H1(K):\n",
    "    return t1*(1+exp(dot(K,a1)*1j)+exp(dot(K,a2))*1j)"
   ]
  },
  {
   "cell_type": "code",
   "execution_count": 37,
   "id": "81f4491c",
   "metadata": {},
   "outputs": [],
   "source": [
    "def H2(K):\n",
    "    return t2*(exp(dot(K,a1)*1j)+exp(dot(K,a2)*1j) + exp(dot(K,-a2)*1j)+exp(dot(K,-a1)*1j) +exp(dot(K,a2-a1)*1j) +exp(dot(K,a1-a2)*1j))"
   ]
  },
  {
   "cell_type": "code",
   "execution_count": 45,
   "id": "af17703e",
   "metadata": {},
   "outputs": [],
   "source": [
    "def H3(K):\n",
    "    return t3*(exp(dot(K,a2-a1)*1j) +exp(dot(K,a1-a2)*1j) + exp(dot(K,a1+a2)*1j))\n"
   ]
  },
  {
   "cell_type": "code",
   "execution_count": 48,
   "id": "56e7a63a",
   "metadata": {},
   "outputs": [],
   "source": [
    "def H(K):\n",
    "    return [[tc + H2(K),0,0,H1(K)+H2(K)],[0,tc+H2(K)+U,H1(K)+H3(K),0],[0,conj(H1(K))+conj(H3(K)),tc+H2(K)+U,0],[conj(H1(K))+conj(H3(K)),0,0,tc+H2(K)]]"
   ]
  },
  {
   "cell_type": "code",
   "execution_count": 49,
   "id": "9b8a9fad",
   "metadata": {},
   "outputs": [
    {
     "data": {
      "text/plain": [
       "[[(2.030050031751371+0j), 0, 0, (1.356830655894463+26.696582806130618j)],\n",
       " [0, (11.330050031751371+0j), (1.7187626927839446+26.467969162114503j), 0],\n",
       " [0, (1.7187626927839446-26.467969162114503j), (11.330050031751371+0j), 0],\n",
       " [(1.7187626927839446-26.467969162114503j), 0, 0, (2.030050031751371+0j)]]"
      ]
     },
     "execution_count": 49,
     "metadata": {},
     "output_type": "execute_result"
    }
   ],
   "source": [
    "H([1,0])"
   ]
  },
  {
   "cell_type": "code",
   "execution_count": null,
   "id": "b1d52219",
   "metadata": {},
   "outputs": [],
   "source": []
  }
 ],
 "metadata": {
  "kernelspec": {
   "display_name": "Python 3 (ipykernel)",
   "language": "python",
   "name": "python3"
  },
  "language_info": {
   "codemirror_mode": {
    "name": "ipython",
    "version": 3
   },
   "file_extension": ".py",
   "mimetype": "text/x-python",
   "name": "python",
   "nbconvert_exporter": "python",
   "pygments_lexer": "ipython3",
   "version": "3.11.0"
  }
 },
 "nbformat": 4,
 "nbformat_minor": 5
}
