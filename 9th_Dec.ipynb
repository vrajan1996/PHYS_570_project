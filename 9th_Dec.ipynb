{
  "cells": [
    {
      "cell_type": "code",
      "execution_count": null,
      "id": "365d5430-fd98-4644-911a-f21a9e4c16a8",
      "metadata": {
        "id": "365d5430-fd98-4644-911a-f21a9e4c16a8"
      },
      "outputs": [],
      "source": [
        "# All the required packages\n",
        "!pip install qiskit ipywidgets\n",
        "import numpy as np\n",
        "import math\n",
        "import cmath\n",
        "!pip install ibm_quantum_widgets\n",
        "from ibm_quantum_widgets import CircuitComposer\n",
        "from qiskit import QuantumRegister, ClassicalRegister, QuantumCircuit\n",
        "from numpy import *\n",
        "from numpy.linalg import eig\n",
        "from math import *\n",
        "from numpy import *\n",
        "from qiskit import QuantumCircuit\n",
        "from qiskit import Aer, transpile\n",
        "from qiskit.tools.visualization import plot_histogram, plot_state_city\n",
        "import qiskit.quantum_info as qi\n",
        "\n"
      ]
    },
    {
      "cell_type": "code",
      "execution_count": 98,
      "id": "f5291898-c7e4-48d4-8565-2cf65111876d",
      "metadata": {
        "id": "f5291898-c7e4-48d4-8565-2cf65111876d"
      },
      "outputs": [],
      "source": [
        "##Initializing the variables of the rbm\n",
        "sg= np.ones(2)\n",
        "a = np.ones(2)\n",
        "b =  np.ones(2)\n",
        "c=1\n",
        "d = np.ones(2)\n",
        "e=1\n",
        "f=np.ones(2)\n",
        "w = np.array([[1,1],[1,1]])\n",
        "x = np.array([[1,1],[1,-1],[-1,1],[-1,-1]])\n",
        "oldpx = [0,0,0,0]\n",
        "newIt=1\n",
        "\n",
        " "
      ]
    },
    {
      "cell_type": "code",
      "execution_count": 99,
      "metadata": {
        "id": "1fd86431"
      },
      "outputs": [],
      "source": [
        "# length units - Angstrom\n",
        "a1 = array([2.55*sqrt(3)/2,2.55/2])\n",
        "a2 = array([2.55*sqrt(3)/2,-2.55/2])\n",
        "#Energy units-eV\n",
        "tc = 1.994\n",
        "t1 = 2.86\n",
        "t2 = -0.236\n",
        "t3 = 0.252\n",
        "U=9.3"
      ],
      "id": "1fd86431"
    },
    {
      "cell_type": "code",
      "execution_count": 100,
      "metadata": {
        "id": "df844043"
      },
      "outputs": [],
      "source": [
        "def H1(K):\n",
        "    return t1*(1+exp(dot(K,a1)*1j)+exp(dot(K,a2)*1j))\n",
        "def H2(K):\n",
        "    return t2*(exp(dot(K,a1)*1j)+exp(dot(K,a2)*1j) + exp(dot(K,-a2)*1j)+exp(dot(K,-a1)*1j) +exp(dot(K,a2-a1)*1j) +exp(dot(K,a1-a2)*1j))\n",
        "def H3(K):\n",
        "    return t3*(exp(dot(K,a2-a1)*1j) +exp(dot(K,a1-a2)*1j) + exp(dot(K,a1+a2)*1j))\n",
        "def H(K):\n",
        "    return np.array([[tc + H2(K),0,0,H1(K)+H3(K)],[0,tc+H2(K)+U,H1(K)+H3(K),0],[0,conj(H1(K))+conj(H3(K)),tc+H2(K)+U,0],[conj(H1(K))+conj(H3(K)),0,0,tc+H2(K)]])\n"
      ],
      "id": "df844043"
    },
    {
      "cell_type": "code",
      "execution_count": 164,
      "metadata": {
        "id": "9b8a9fad",
        "outputId": "cc63e292-d73d-4a83-e784-bd271cbd0546",
        "colab": {
          "base_uri": "https://localhost:8080/"
        }
      },
      "outputs": [
        {
          "output_type": "execute_result",
          "data": {
            "text/plain": [
              "array([ 6.77160654+4.24105195e-17j, -2.74380769+4.24105195e-17j,\n",
              "       16.07160654-3.03757020e-16j,  6.55619231-3.03757020e-16j])"
            ]
          },
          "metadata": {},
          "execution_count": 164
        }
      ],
      "source": [
        "#H([1,0])\n",
        "#H([1,0])[0,0]\n",
        "#eig(H([2*pi/(3*2.55),2*pi/(3*2.55)*sqrt(3)]))\n",
        "KK=[2*pi/(3*2.55),2*pi/(3*2.55)*1/sqrt(3)] # -2 missing here\n",
        "M=[2*pi/(3*2.55),0]    #and 0 missing here\n",
        "#K= [2*pi,2*pi*tan(30*(2*pi)/360)]\n",
        "Gamma=[0,0]  # all good 0.5 maybe off\n",
        "koko=[pi/(3*2.55),pi/(3*2.55)*1/sqrt(3)]\n",
        "eig(H(KK))[0]\n"
      ],
      "id": "9b8a9fad"
    },
    {
      "cell_type": "code",
      "execution_count": 102,
      "id": "903f6428-a185-40fb-8bfa-4ee741e11308",
      "metadata": {
        "id": "903f6428-a185-40fb-8bfa-4ee741e11308",
        "colab": {
          "base_uri": "https://localhost:8080/"
        },
        "outputId": "de077b6d-a2c0-44dd-de65-ed460fead72a"
      },
      "outputs": [
        {
          "output_type": "stream",
          "name": "stdout",
          "text": [
            "(0.5780000000000001+0j)\n"
          ]
        }
      ],
      "source": [
        "#Hamiltonian definition\n",
        "def A(sg1,sg2):\n",
        " k = np.array(K)\n",
        " sg1=np.array(sg1)\n",
        " sg2=np.array(sg2)\n",
        " i=0\n",
        " j=0\n",
        " if (sg1==[1,1]).all():\n",
        "    i=0\n",
        " elif (sg1==[1,-1]).all():\n",
        "    i=1\n",
        " elif (sg1==[-1,1]).all():\n",
        "    i=2\n",
        " elif (sg1==[-1,-1]).all():\n",
        "    i=3\n",
        "    \n",
        " if (sg2==[1,1]).all():\n",
        "    j=0\n",
        " elif (sg2==[1,-1]).all():\n",
        "    j=1\n",
        " elif (sg2==[-1,1]).all():\n",
        "    j=2\n",
        " elif (sg2==[-1,-1]).all():\n",
        "    j=3\n",
        " return H(k)[i,j]\n",
        "#print(A([1,1],[1,1]))"
      ]
    },
    {
      "cell_type": "code",
      "execution_count": 103,
      "id": "e147429a-46fe-4514-b2a6-e3c058c5d8af",
      "metadata": {
        "id": "e147429a-46fe-4514-b2a6-e3c058c5d8af"
      },
      "outputs": [],
      "source": [
        "#Quantum computer\n",
        "\n",
        "def px(sg,a,b,c,d,e,f,w): # test P(X)\n",
        "  # Assigning qubit rotation angles using the above parameters\n",
        " global newIt\n",
        " global oldpx\n",
        "\n",
        " if newIt == 0:\n",
        "   if(sg == [1,1]).all():\n",
        "    return oldpx[0] \n",
        "\n",
        "   if(sg == [-1,1]).all():\n",
        "    return oldpx[1] \n",
        "\n",
        "   if(sg == [1,-1]).all():\n",
        "    return oldpx[2] \n",
        "\n",
        "   if(sg == [-1,-1]).all():\n",
        "    return oldpx[3] \n",
        " #print(\"Quantum Computer is used\")\n",
        " theta =[0,0];\n",
        " gamma =[0,0];\n",
        "\n",
        " theta[0] = (2*asin(sqrt(exp(a[0])/(exp(a[0]) + exp(-a[0]))))).real;\n",
        " theta[1] = (2*asin(sqrt(exp(a[1])/(exp(a[1]) + exp(-a[1]))))).real;\n",
        "\n",
        "\n",
        " gamma[0] = (2*asin(sqrt(exp(b[0])/(exp(b[0]) + exp(-b[0]))))).real;\n",
        " gamma[1] = (2*asin(sqrt(exp(b[1])/(exp(b[1]) + exp(-b[1]))))).real;\n",
        "\n",
        " THETA = [(2*asin(sqrt(exp(w[0,0])/(exp(abs(w[0,0])))))).real, (2*asin(sqrt(exp(w[0,1])/(exp(abs(w[0,1])))))).real,(2*asin(sqrt(exp(w[1,0])/(exp(abs(w[1,0])))))).real,(2*asin(sqrt(exp(w[1,1])/(exp(abs(w[1,1])))))).real];\n",
        "\n",
        " THETAN = [(2*asin(sqrt(exp(-w[0,0])/(exp(abs(w[0,0])))))).real, (2*asin(sqrt(exp(-w[0,1])/(exp(abs(w[0,1])))))).real,(2*asin(sqrt(exp(-w[1,0])/(exp(abs(w[1,0])))))).real,(2*asin(sqrt(exp(-w[1,1])/(exp(abs(w[1,1])))))).real];\n",
        "\n",
        "#initialising ccry gate 0\n",
        " qreg = QuantumRegister(3, 'q')\n",
        " ccry = QuantumCircuit(qreg)\n",
        "\n",
        " ccry.cry(THETA[0] / 2, qreg[1], qreg[2])\n",
        " ccry.cx(qreg[0], qreg[1])\n",
        " ccry.cry(-THETA[0] / 2, qreg[1], qreg[2])\n",
        " ccry.cx(qreg[0], qreg[1])\n",
        " ccry.cry(THETA[0] / 2, qreg[0], qreg[2])\n",
        "\n",
        " ccry.x(0)\n",
        "\n",
        " ccry.cry(THETAN[0] / 2, qreg[1], qreg[2])\n",
        " ccry.cx(qreg[0], qreg[1])\n",
        " ccry.cry(-THETAN[0] / 2, qreg[1], qreg[2])\n",
        " ccry.cx(qreg[0], qreg[1])\n",
        " ccry.cry(THETAN[0] / 2, qreg[0], qreg[2])\n",
        "\n",
        " ccry.x(0)\n",
        " ccry.x(1)\n",
        "\n",
        "\n",
        " ccry.cry(THETAN[0] / 2, qreg[1], qreg[2])\n",
        " ccry.cx(qreg[0], qreg[1])\n",
        " ccry.cry(-THETAN[0] / 2, qreg[1], qreg[2])\n",
        " ccry.cx(qreg[0], qreg[1])\n",
        " ccry.cry(THETAN[0] / 2, qreg[0], qreg[2])\n",
        "\n",
        " ccry.x(0)\n",
        "\n",
        " ccry.cry(THETA[0] / 2, qreg[1], qreg[2])\n",
        " ccry.cx(qreg[0], qreg[1])\n",
        " ccry.cry(-THETA[0] / 2, qreg[1], qreg[2])\n",
        " ccry.cx(qreg[0], qreg[1])\n",
        " ccry.cry(THETA[0] / 2, qreg[0], qreg[2])\n",
        "\n",
        " CCRY0 = ccry.to_instruction()\n",
        "\n",
        "#initialising ccry gate 1\n",
        " qreg = QuantumRegister(3, 'q')\n",
        " ccry = QuantumCircuit(qreg)\n",
        "\n",
        " ccry.cry(THETA[1] / 2, qreg[1], qreg[2])\n",
        " ccry.cx(qreg[0], qreg[1])\n",
        " ccry.cry(-THETA[1] / 2, qreg[1], qreg[2])\n",
        " ccry.cx(qreg[0], qreg[1])\n",
        " ccry.cry(THETA[1] / 2, qreg[0], qreg[2])\n",
        "\n",
        " ccry.x(0)\n",
        "\n",
        " ccry.cry(THETAN[1] / 2, qreg[1], qreg[2])\n",
        " ccry.cx(qreg[0], qreg[1])\n",
        " ccry.cry(-THETAN[1] / 2, qreg[1], qreg[2])\n",
        " ccry.cx(qreg[0], qreg[1])\n",
        " ccry.cry(THETAN[1] / 2, qreg[0], qreg[2])\n",
        "\n",
        " ccry.x(0)\n",
        " ccry.x(1)\n",
        "\n",
        "\n",
        " ccry.cry(THETAN[1] / 2, qreg[1], qreg[2])\n",
        " ccry.cx(qreg[0], qreg[1])\n",
        " ccry.cry(-THETAN[1] / 2, qreg[1], qreg[2])\n",
        " ccry.cx(qreg[0], qreg[1])\n",
        " ccry.cry(THETAN[1] / 2, qreg[0], qreg[2])\n",
        "\n",
        " ccry.x(0)\n",
        "\n",
        " ccry.cry(THETA[1] / 2, qreg[1], qreg[2])\n",
        " ccry.cx(qreg[0], qreg[1])\n",
        " ccry.cry(-THETA[1] / 2, qreg[1], qreg[2])\n",
        " ccry.cx(qreg[0], qreg[1])\n",
        " ccry.cry(THETA[1] / 2, qreg[0], qreg[2])\n",
        "\n",
        " CCRY1 = ccry.to_instruction()\n",
        "\n",
        "#initialising ccry gate 2\n",
        " qreg = QuantumRegister(3, 'q')\n",
        " ccry = QuantumCircuit(qreg)\n",
        "\n",
        " ccry.cry(THETA[2] / 2, qreg[1], qreg[2])\n",
        " ccry.cx(qreg[0], qreg[1])\n",
        " ccry.cry(-THETA[2] / 2, qreg[1], qreg[2])\n",
        " ccry.cx(qreg[0], qreg[1])\n",
        " ccry.cry(THETA[2] / 2, qreg[0], qreg[2])\n",
        "\n",
        " ccry.x(0)\n",
        "\n",
        " ccry.cry(THETAN[2] / 2, qreg[1], qreg[2])\n",
        " ccry.cx(qreg[0], qreg[1])\n",
        " ccry.cry(-THETAN[2] / 2, qreg[1], qreg[2])\n",
        " ccry.cx(qreg[0], qreg[1])\n",
        " ccry.cry(THETAN[2] / 2, qreg[0], qreg[2])\n",
        "\n",
        " ccry.x(0)\n",
        " ccry.x(1)\n",
        "\n",
        "\n",
        " ccry.cry(THETAN[2] / 2, qreg[1], qreg[2])\n",
        " ccry.cx(qreg[0], qreg[1])\n",
        " ccry.cry(-THETAN[2] / 2, qreg[1], qreg[2])\n",
        " ccry.cx(qreg[0], qreg[1])\n",
        " ccry.cry(THETAN[2] / 2, qreg[0], qreg[2])\n",
        "\n",
        " ccry.x(0)\n",
        "\n",
        " ccry.cry(THETA[2] / 2, qreg[1], qreg[2])\n",
        " ccry.cx(qreg[0], qreg[1])\n",
        " ccry.cry(-THETA[2] / 2, qreg[1], qreg[2])\n",
        " ccry.cx(qreg[0], qreg[1])\n",
        " ccry.cry(THETA[2] / 2, qreg[0], qreg[2])\n",
        "\n",
        " CCRY2 = ccry.to_instruction()\n",
        "\n",
        "#initialising ccry gate 3\n",
        " qreg = QuantumRegister(3, 'q')\n",
        " ccry = QuantumCircuit(qreg)\n",
        "\n",
        " ccry.cry(THETA[3] / 2, qreg[1], qreg[2])\n",
        " ccry.cx(qreg[0], qreg[1])\n",
        " ccry.cry(-THETA[3] / 2, qreg[1], qreg[2])\n",
        " ccry.cx(qreg[0], qreg[1])\n",
        " ccry.cry(THETA[3] / 2, qreg[0], qreg[2])\n",
        "\n",
        " ccry.x(0)\n",
        "\n",
        " ccry.cry(THETAN[3] / 2, qreg[1], qreg[2])\n",
        " ccry.cx(qreg[0], qreg[1])\n",
        " ccry.cry(-THETAN[3] / 2, qreg[1], qreg[2])\n",
        " ccry.cx(qreg[0], qreg[1])\n",
        " ccry.cry(THETAN[3] / 2, qreg[0], qreg[2])\n",
        "\n",
        " ccry.x(0)\n",
        " ccry.x(1)\n",
        "\n",
        "\n",
        " ccry.cry(THETAN[3] / 2, qreg[1], qreg[2])\n",
        " ccry.cx(qreg[0], qreg[1])\n",
        " ccry.cry(-THETAN[3] / 2, qreg[1], qreg[2])\n",
        " ccry.cx(qreg[0], qreg[1])\n",
        " ccry.cry(THETAN[3] / 2, qreg[0], qreg[2])\n",
        "\n",
        " ccry.x(0)\n",
        "\n",
        " ccry.cry(THETA[3] / 2, qreg[1], qreg[2])\n",
        " ccry.cx(qreg[0], qreg[1])\n",
        " ccry.cry(-THETA[3] / 2, qreg[1], qreg[2])\n",
        " ccry.cx(qreg[0], qreg[1])\n",
        " ccry.cry(THETA[3] / 2, qreg[0], qreg[2])\n",
        "\n",
        " CCRY3 = ccry.to_instruction()\n",
        "\n",
        "# The actual circuit(4 visible units + 4 hidden units)\n",
        " qreg_q = QuantumRegister(8, 'q')\n",
        " creg_c = ClassicalRegister(8, 'c')\n",
        " circuit = QuantumCircuit(qreg_q, creg_c)\n",
        "\n",
        " circuit.ry(theta[0], qreg_q[0])\n",
        " circuit.ry(theta[1], qreg_q[1])\n",
        " circuit.ry(gamma[0], qreg_q[2])\n",
        " circuit.ry(gamma[1], qreg_q[3])\n",
        "\n",
        "# Circuit barrier\n",
        "\n",
        " circuit.barrier(qreg_q[0])\n",
        " circuit.barrier(qreg_q[1])\n",
        " circuit.barrier(qreg_q[2])\n",
        " circuit.barrier(qreg_q[3])\n",
        " circuit.barrier(qreg_q[4])\n",
        " circuit.barrier(qreg_q[5])\n",
        " circuit.barrier(qreg_q[6])\n",
        " circuit.barrier(qreg_q[7])\n",
        "\n",
        "#Appending ccry gates (update it after talking to Manas\n",
        "\n",
        " circuit.append(CCRY0, [0,2,4]);\n",
        " circuit.append(CCRY1, [0,3,5]);\n",
        " circuit.append(CCRY2, [1,2,6]);\n",
        " circuit.append(CCRY3, [1,3,7]);\n",
        "\n",
        "# Measurements\n",
        " circuit.measure(qreg_q[0], creg_c[0])\n",
        " circuit.measure(qreg_q[1], creg_c[1])\n",
        " circuit.measure(qreg_q[2], creg_c[2])\n",
        " circuit.measure(qreg_q[3], creg_c[3])\n",
        " circuit.measure(qreg_q[4], creg_c[4])\n",
        " circuit.measure(qreg_q[5], creg_c[5])\n",
        " circuit.measure(qreg_q[6], creg_c[6])\n",
        " circuit.measure(qreg_q[7], creg_c[7])\n",
        "\n",
        "\n",
        "# Transpile for simulator\n",
        " simulator = Aer.get_backend('aer_simulator')\n",
        " circ = transpile(circuit, simulator)\n",
        "\n",
        "# Run and get counts\n",
        " num_of_shots = 1000;\n",
        " result = simulator.run(circ, shots=num_of_shots).result()\n",
        " counts = result.get_counts(circ)\n",
        "\n",
        " P = {'00':0,'01':0,'10':0,'11':0}\n",
        "\n",
        " for i in P:\n",
        "    for j in counts:\n",
        "        if (j[0:4] == '1111' and j[6:8] == i):\n",
        "            P[i] = P[i] + counts[j]/num_of_shots;\n",
        " oldpx[0] =  P['00']\n",
        " oldpx[1] =  P['10']\n",
        " oldpx[2] =  P['01']\n",
        " oldpx[3] =  P['11']    \n",
        " newIt = 0\n",
        " if(sg == [1,1]).all():\n",
        "    \n",
        "    return P['00']\n",
        "\n",
        " if(sg == [-1,1]).all():\n",
        "    return P['10']\n",
        "\n",
        " if(sg == [1,-1]).all():\n",
        "    return P['01']\n",
        "\n",
        " if(sg == [-1,-1]).all():\n",
        "    return P['11']\n"
      ]
    },
    {
      "cell_type": "code",
      "execution_count": 104,
      "id": "ba0f4d86-5c39-4a7d-91a8-ed86303b1dde",
      "metadata": {
        "id": "ba0f4d86-5c39-4a7d-91a8-ed86303b1dde"
      },
      "outputs": [],
      "source": [
        "def sx(sg,a,b,c,d,e,f,w):  ## S(x), i,j runs from 1 to 2\n",
        "  term1= c+np.einsum('i,i->', d, sg) \n",
        "  term2 =(e+np.einsum('i,i', f, sg))*1j\n",
        "  return cmath.tanh(term1+term2)\n",
        "####"
      ]
    },
    {
      "cell_type": "code",
      "execution_count": 105,
      "id": "edcf2ca9-c3b6-4b80-8b9a-368bc9c09119",
      "metadata": {
        "id": "edcf2ca9-c3b6-4b80-8b9a-368bc9c09119"
      },
      "outputs": [],
      "source": [
        "def Bxa(sg,a,b,c,d,e,f,w): #B(x;a_i)\n",
        "  return 0.5*sg"
      ]
    },
    {
      "cell_type": "code",
      "execution_count": 106,
      "id": "52216a8c-0453-4626-8061-44ebe18abdb3",
      "metadata": {
        "id": "52216a8c-0453-4626-8061-44ebe18abdb3"
      },
      "outputs": [],
      "source": [
        "def Bxb (sg,a,b,c,d,e,f,w):\n",
        "  return 0.5*np.array(list(map(cmath.tanh, b+ np.einsum('ij,i->j', w, sg))))\n",
        "\n",
        "def Bxc (sg,a,b,c,d,e,f,w):\n",
        "  return (1/(( sx(sg,a,b,c,d,e,f,w)))- sx(sg,a,b,c,d,e,f,w))\n",
        "\n",
        "def Bxd (sg,a,b,c,d,e,f,w):\n",
        "  return  (1/( sx(sg,a,b,c,d,e,f,w))- sx(sg,a,b,c,d,e,f,w))*sg\n",
        "\n",
        "def Bxe (sg,a,b,c,d,e,f,w):\n",
        "  return (1/( sx(sg,a,b,c,d,e,f,w))- sx(sg,a,b,c,d,e,f,w))*1j\n",
        "\n",
        "def Bxf (sg,a,b,c,d,e,f,w):\n",
        "  return (1/( sx(sg,a,b,c,d,e,f,w))- sx(sg,a,b,c,d,e,f,w))*1j*sg\n",
        "\n",
        "def Bxw (sg,a,b,c,d,e,f,w):\n",
        "  term1 = 0.5*np.array(list(map(cmath.tanh, b+np.einsum('ij,i->j', w, sg))))\n",
        "  term2 = sg\n",
        "  return np.einsum('j,i->ij',term1,term2)"
      ]
    },
    {
      "cell_type": "code",
      "source": [
        " for l in range(3):\n",
        "  print(l)"
      ],
      "metadata": {
        "colab": {
          "base_uri": "https://localhost:8080/"
        },
        "id": "7NdcOh-Lcsvu",
        "outputId": "e133aa11-96e2-4ec8-f3ea-fd4e6f0094da"
      },
      "id": "7NdcOh-Lcsvu",
      "execution_count": 107,
      "outputs": [
        {
          "output_type": "stream",
          "name": "stdout",
          "text": [
            "0\n",
            "1\n",
            "2\n"
          ]
        }
      ]
    },
    {
      "cell_type": "code",
      "execution_count": 108,
      "id": "dc893843-7a51-4424-aaa1-9cadbdcedfe3",
      "metadata": {
        "id": "dc893843-7a51-4424-aaa1-9cadbdcedfe3"
      },
      "outputs": [],
      "source": [
        "def Avx(Bxi,sg,a,b,c,d,e,f,w): #<B(x;p_k)>_x  \n",
        "  denom=0+0*1j\n",
        "  for i in range(x.shape[0]):\n",
        "    denom+= abs(cmath.sqrt(px(x[i],a,b,c,d,e,f,w))*sx(x[i],a,b,c,d,e,f,w))**2\n",
        "####\n",
        "  \n",
        "  if Bxi == Bxc or Bxi == Bxe :\n",
        "   numer=0+0*1j\n",
        "   for i in range(x.shape[0]):\n",
        "      t1= np.conj(cmath.sqrt(px(x[i],a,b,c,d,e,f,w))*sx(x[i],a,b,c,d,e,f,w))\n",
        "      t2= Bxi(x[i],a,b,c,d,e,f,w)\n",
        "      t3= cmath.sqrt(px(x[i],a,b,c,d,e,f,w))*sx(x[i],a,b,c,d,e,f,w)\n",
        "      numer+=t1*t2*t3\n",
        "   return (numer)/(denom.real)\n",
        "  elif Bxi == Bxw:\n",
        "     numer2=np.zeros((w.shape[0],w.shape[0]),dtype = 'complex_')\n",
        "     for l in range(a.shape[0]): \n",
        "       for k in range(a.shape[0]):\n",
        "         numerkl=0 +0*1j ### review\n",
        "         for i in range(x.shape[0]):\n",
        "            t1= np.conj(cmath.sqrt(px(x[i],a,b,c,d,e,f,w))*sx(x[i],a,b,c,d,e,f,w))\n",
        "            t2= Bxi(x[i],a,b,c,d,e,f,w)[k][l]\n",
        "            t3= cmath.sqrt(px(x[i],a,b,c,d,e,f,w))*sx(x[i],a,b,c,d,e,f,w)\n",
        "            numerkl+=t1*t2*t3\n",
        "         numer2[k][l]=numerkl\n",
        "     return (numer2)/(denom.real)\n",
        "  else:\n",
        "     numer3=np.zeros(a.shape[0],dtype = 'complex_')\n",
        "     for k in range(a.shape[0]):\n",
        "       numerk=0+0*1j\n",
        "       for i in range(x.shape[0]):\n",
        "         t1= np.conj(cmath.sqrt(px(x[i],a,b,c,d,e,f,w))*sx(x[i],a,b,c,d,e,f,w))\n",
        "         t2= Bxi(x[i],a,b,c,d,e,f,w)[k]\n",
        "         t3= cmath.sqrt(px(x[i],a,b,c,d,e,f,w))*sx(x[i],a,b,c,d,e,f,w)\n",
        "         numerk+=t1*t2*t3\n",
        "       numer3[k]=numerk\n",
        "     return (numer3)/(denom.real)    \n",
        "#################\n",
        "\n",
        "#print( Avx(Bxe,sg,a,b,c,d,e,f,w))"
      ]
    },
    {
      "cell_type": "code",
      "execution_count": 109,
      "id": "08612188-82cf-4d39-a021-aba35f7b3264",
      "metadata": {
        "id": "08612188-82cf-4d39-a021-aba35f7b3264"
      },
      "outputs": [],
      "source": [
        "def Avxx(Bxi,sg,a,b,c,d,e,f,w): #_x',x  #Done\n",
        "  denom=0\n",
        "  for i in range(x.shape[0]):\n",
        "    denom+= abs(cmath.sqrt(px(x[i],a,b,c,d,e,f,w))*(sx(x[i],a,b,c,d,e,f,w)))**2\n",
        "####\n",
        "  \n",
        "  if Bxi == Bxc or Bxi == Bxe :\n",
        "   numer=0+0*1j\n",
        "   for i in range(x.shape[0]):\n",
        "    for j in range(x.shape[0]):\n",
        "      t1= np.conj(cmath.sqrt(px(x[i],a,b,c,d,e,f,w))*sx(x[i],a,b,c,d,e,f,w))\n",
        "      t2= A(x[i],x[j])*Bxi(x[j],a,b,c,d,e,f,w)\n",
        "      t3= cmath.sqrt(px(x[j],a,b,c,d,e,f,w))*sx(x[j],a,b,c,d,e,f,w)\n",
        "      numer+=t1*t2*t3\n",
        "   return (numer)/(denom.real)\n",
        "  elif Bxi == Bxw:\n",
        "     numer=np.zeros((w.shape[0],w.shape[0]),dtype = 'complex_')\n",
        "     for k in range(a.shape[0]):\n",
        "       for l in range(a.shape[0]):\n",
        "         numerkl=0+0*1j\n",
        "         for i in range(x.shape[0]):\n",
        "           for j in range(x.shape[0]):\n",
        "            t1= np.conj(cmath.sqrt(px(x[i],a,b,c,d,e,f,w))*sx(x[i],a,b,c,d,e,f,w))\n",
        "            t2= A(x[i],x[j])*Bxi(x[j],a,b,c,d,e,f,w)[k][l]\n",
        "            t3= cmath.sqrt(px(x[j],a,b,c,d,e,f,w))*sx(x[j],a,b,c,d,e,f,w)\n",
        "            numerkl+=t1*t2*t3\n",
        "         numer[k][l]=numerkl\n",
        "\n",
        "     \n",
        "     return (numer)/(denom.real)\n",
        "  else:\n",
        "     numer=np.zeros(a.shape[0],dtype = 'complex_')\n",
        "     for k in range(a.shape[0]):\n",
        "       numerk=0+0*1j\n",
        "       for i in range(x.shape[0]):\n",
        "         for j in range(x.shape[0]):\n",
        "          t1= np.conj(cmath.sqrt(px(x[i],a,b,c,d,e,f,w))*sx(x[i],a,b,c,d,e,f,w))\n",
        "          t2= A(x[i],x[j])*Bxi(x[j],a,b,c,d,e,f,w)[k]\n",
        "          t3= cmath.sqrt(px(x[j],a,b,c,d,e,f,w))*sx(x[j],a,b,c,d,e,f,w)\n",
        "          numerk+=t1*t2*t3\n",
        "       numer[k]=numerk\n",
        "     return (numer)/(denom.real)    \n"
      ]
    },
    {
      "cell_type": "code",
      "execution_count": 110,
      "id": "e3cc071d-038c-4262-9aa0-ad9c56c08823",
      "metadata": {
        "id": "e3cc071d-038c-4262-9aa0-ad9c56c08823"
      },
      "outputs": [],
      "source": [
        "def AvA (sg,a,b,c,d,e,f,w):  # doesn't depend on sg actually #Done\n",
        "  numer=0+0*1j\n",
        "  for i in range(x.shape[0]):\n",
        "    for j in range(x.shape[0]):\n",
        "      t1= np.conj(cmath.sqrt(px(x[i],a,b,c,d,e,f,w))*sx(x[i],a,b,c,d,e,f,w))\n",
        "      t2= A(x[i],x[j])\n",
        "      t3= cmath.sqrt(px(x[j],a,b,c,d,e,f,w))*sx(x[j],a,b,c,d,e,f,w)\n",
        "      numer+=t1*t2*t3\n",
        "  denom=0+0*1j\n",
        "  for i in range(x.shape[0]):\n",
        "    denom+= abs(cmath.sqrt(px(x[i],a,b,c,d,e,f,w))*((sx(x[i],a,b,c,d,e,f,w))))**2\n",
        "  return (numer)/(denom)\n",
        "\n",
        "def AvAp (params):\n",
        "  a  =  np.array(params[0:2])\n",
        "  b  =  np.array(params[2:4])\n",
        "  c  =  np.array(params[4])\n",
        "  d  =  np.array(params[5:7])\n",
        "  e  =  np.array(params[7])\n",
        "  f  =  np.array(params[8:10])\n",
        "  w  =  np.array(np.resize(params[10:14],(2,2)))\n",
        "  numer=0+0*1j\n",
        "  for i in range(x.shape[0]):\n",
        "    for j in range(x.shape[0]):\n",
        "      t1= np.conj(cmath.sqrt(px(x[i],a,b,c,d,e,f,w))*sx(x[i],a,b,c,d,e,f,w))\n",
        "      t2= A(x[i],x[j])\n",
        "      t3= cmath.sqrt(px(x[j],a,b,c,d,e,f,w))*sx(x[j],a,b,c,d,e,f,w)\n",
        "      numer+=t1*t2*t3\n",
        "  denom=0+0*1j\n",
        "  for i in range(x.shape[0]):\n",
        "    denom+= abs(cmath.sqrt(px(x[i],a,b,c,d,e,f,w))*((sx(x[i],a,b,c,d,e,f,w))))**2\n",
        "  return (numer)/(denom)"
      ]
    },
    {
      "cell_type": "code",
      "execution_count": 111,
      "id": "bcb42d17-6d8b-4bbe-abcd-b485cde0876d",
      "metadata": {
        "id": "bcb42d17-6d8b-4bbe-abcd-b485cde0876d"
      },
      "outputs": [],
      "source": [
        "def partialAx(Bxi,sg,a,b,c,d,e,f,w): #partial/partial x_k\n",
        "  term1 = Avxx(Bxi,sg,a,b,c,d,e,f,w) \n",
        "  if Bxi == Bxc or Bxi == Bxe:\n",
        "    term2 = term1+np.conjugate(term1)\n",
        "  else:\n",
        "    term2 = term1 + np.array(list(map(np.conj, term1)))\n",
        "  term3 = Avx(Bxi,sg,a,b,c,d,e,f,w) \n",
        "  if Bxi == Bxc or Bxi == Bxe:\n",
        "    term4 = AvA(sg,a,b,c,d,e,f,w)*(term3+ np.conjugate(term3))\n",
        "  else:\n",
        "    term4 = AvA(sg,a,b,c,d,e,f,w)*(term3+ np.array(list(map(np.conj, term3)))) \n",
        "  return (term2+term4)\n",
        "\n"
      ]
    },
    {
      "cell_type": "code",
      "source": [
        "##Checking the wave function shape\n",
        "def getPhi(params):\n",
        "  a  =  np.array(params[0:2])\n",
        "  b  =  np.array(params[2:4])\n",
        "  c  =  np.array(params[4])\n",
        "  d  =  np.array(params[5:7])\n",
        "  e  =  np.array(params[7])\n",
        "  f  =  np.array(params[8:10])\n",
        "  w  =  np.array(np.resize(params[10:14],(2,2)))\n",
        "  norm=0\n",
        "  norm2=0\n",
        "  global newIt\n",
        "  phi=np.zeros(4,dtype = 'complex_')\n",
        "  for i in range(x.shape[0]):\n",
        "    newIt=1\n",
        "    phi[i]=(cmath.sqrt(px(x[i],a,b,c,d,e,f,w))*sx(x[i],a,b,c,d,e,f,w))\n",
        "    norm+=abs(cmath.sqrt(px(x[i],a,b,c,d,e,f,w))*sx(x[i],a,b,c,d,e,f,w))**2\n",
        "  phi=phi/math.sqrt(norm)\n",
        "  for i in range(phi.shape[0]):\n",
        "    norm2+=abs(phi[i])**2\n",
        "  if abs(norm2-1)>0.1:\n",
        "    return -1\n",
        "  else:\n",
        "    return phi\n"
      ],
      "metadata": {
        "id": "4fhp38hW6mt-"
      },
      "id": "4fhp38hW6mt-",
      "execution_count": 112,
      "outputs": []
    },
    {
      "cell_type": "code",
      "execution_count": 113,
      "id": "f9dd1500-c370-4e30-a2fd-7bfa31b9472f",
      "metadata": {
        "id": "f9dd1500-c370-4e30-a2fd-7bfa31b9472f"
      },
      "outputs": [],
      "source": [
        "def grad(params): # vectorial gradient\n",
        "  global newIt\n",
        "  a  =  np.array(params[0:2])\n",
        "  b  =  np.array(params[2:4])\n",
        "  c  =  np.array(params[4])\n",
        "  d  =  np.array(params[5:7])\n",
        "  e  =  np.array(params[7])\n",
        "  f  =  np.array(params[8:10])\n",
        "  w  =  np.array(np.resize(params[10:14],(2,2))) #\n",
        "  newIt = 1\n",
        "  term1=np.append(np.concatenate((partialAx(Bxa,sg,a,b,c,d,e,f,w),partialAx(Bxb,sg,a,b,c,d,e,f,w))),partialAx(Bxc,sg,a,b,c,d,e,f,w)) \n",
        "  term2 = np.append(term1,partialAx(Bxd,sg,a,b,c,d,e,f,w))\n",
        "  term3= np.append(term2,partialAx(Bxe,sg,a,b,c,d,e,f,w))\n",
        "  term4 = np.append(term3,partialAx(Bxf,sg,a,b,c,d,e,f,w))\n",
        "  paramsgrad = np.append(term4,partialAx(Bxw,sg,a,b,c,d,e,f,w))\n",
        " \n",
        "  return paramsgrad.real\n"
      ]
    },
    {
      "cell_type": "code",
      "execution_count": 114,
      "id": "348db2b0-0646-47ab-b3cc-f32826a0047c",
      "metadata": {
        "id": "348db2b0-0646-47ab-b3cc-f32826a0047c"
      },
      "outputs": [],
      "source": [
        "def gd(grad, sg,a,b,c,d,e,f,w, n_epochs=10, eta=0.001):  #Gradient descent\n",
        "    #We can here use Adam instead of this very simple descent\n",
        "    \n",
        "    term1=np.append(np.concatenate((a,b)),c) \n",
        "    term2 = np.append(term1,d)\n",
        "    term3=np.append(term2,e)\n",
        "    term4 = np.append(term3,f)\n",
        "    params = np.append(term4,w)\n",
        "    param_traj=np.zeros([n_epochs+1,params.shape[0]],dtype = 'complex_')\n",
        "    param_traj[0,]=params\n",
        "    v=0;\n",
        "   \n",
        "    for j in range(n_epochs):\n",
        "         v=eta*(np.array(grad(params)[0]))\n",
        "         params=params-v\n",
        "         param_traj[j+1,]=params\n",
        "    return  params,param_traj"
      ]
    },
    {
      "cell_type": "code",
      "source": [
        " \n",
        "import warnings\n",
        "import matplotlib.pyplot as plt\n",
        "\n",
        "\n",
        "\n",
        "warnings.simplefilter('ignore')\n",
        "N=20\n",
        "\n",
        "GD= gd(grad, sg,a,b,c,d,e,f,w, n_epochs=N, eta=0.01)\n",
        "En = np.zeros(GD[1].shape[0])\n",
        "for i in range(N+1):\n",
        "  En[i]=AvAp(GD[1][i])\n",
        "\n",
        "t = np.arange(0,N+1, 1)\n",
        " \n",
        "plt.plot(t, En)\n",
        "plt.show()\n",
        "print(GD[0])\n",
        "warnings.simplefilter('once')\n"
      ],
      "metadata": {
        "id": "D7Fim6wv2Id9",
        "colab": {
          "base_uri": "https://localhost:8080/",
          "height": 380
        },
        "outputId": "32b2fae6-9eb4-4cc2-8ad5-56d3e17ca974"
      },
      "id": "D7Fim6wv2Id9",
      "execution_count": 120,
      "outputs": [
        {
          "output_type": "error",
          "ename": "ValueError",
          "evalue": "ignored",
          "traceback": [
            "\u001b[0;31m---------------------------------------------------------------------------\u001b[0m",
            "\u001b[0;31mValueError\u001b[0m                                Traceback (most recent call last)",
            "\u001b[0;32m<ipython-input-120-fc1a6b852093>\u001b[0m in \u001b[0;36m<module>\u001b[0;34m\u001b[0m\n\u001b[1;32m      7\u001b[0m \u001b[0mN\u001b[0m\u001b[0;34m=\u001b[0m\u001b[0;36m20\u001b[0m\u001b[0;34m\u001b[0m\u001b[0;34m\u001b[0m\u001b[0m\n\u001b[1;32m      8\u001b[0m \u001b[0;34m\u001b[0m\u001b[0m\n\u001b[0;32m----> 9\u001b[0;31m \u001b[0mGD\u001b[0m\u001b[0;34m=\u001b[0m \u001b[0mgd\u001b[0m\u001b[0;34m(\u001b[0m\u001b[0mgrad\u001b[0m\u001b[0;34m,\u001b[0m \u001b[0msg\u001b[0m\u001b[0;34m,\u001b[0m\u001b[0ma\u001b[0m\u001b[0;34m,\u001b[0m\u001b[0mb\u001b[0m\u001b[0;34m,\u001b[0m\u001b[0mc\u001b[0m\u001b[0;34m,\u001b[0m\u001b[0md\u001b[0m\u001b[0;34m,\u001b[0m\u001b[0me\u001b[0m\u001b[0;34m,\u001b[0m\u001b[0mf\u001b[0m\u001b[0;34m,\u001b[0m\u001b[0mw\u001b[0m\u001b[0;34m,\u001b[0m \u001b[0mn_epochs\u001b[0m\u001b[0;34m=\u001b[0m\u001b[0mN\u001b[0m\u001b[0;34m,\u001b[0m \u001b[0meta\u001b[0m\u001b[0;34m=\u001b[0m\u001b[0;36m0.01\u001b[0m\u001b[0;34m)\u001b[0m\u001b[0;34m\u001b[0m\u001b[0;34m\u001b[0m\u001b[0m\n\u001b[0m\u001b[1;32m     10\u001b[0m \u001b[0mEn\u001b[0m \u001b[0;34m=\u001b[0m \u001b[0mnp\u001b[0m\u001b[0;34m.\u001b[0m\u001b[0mzeros\u001b[0m\u001b[0;34m(\u001b[0m\u001b[0mGD\u001b[0m\u001b[0;34m[\u001b[0m\u001b[0;36m1\u001b[0m\u001b[0;34m]\u001b[0m\u001b[0;34m.\u001b[0m\u001b[0mshape\u001b[0m\u001b[0;34m[\u001b[0m\u001b[0;36m0\u001b[0m\u001b[0;34m]\u001b[0m\u001b[0;34m)\u001b[0m\u001b[0;34m\u001b[0m\u001b[0;34m\u001b[0m\u001b[0m\n\u001b[1;32m     11\u001b[0m \u001b[0;32mfor\u001b[0m \u001b[0mi\u001b[0m \u001b[0;32min\u001b[0m \u001b[0mrange\u001b[0m\u001b[0;34m(\u001b[0m\u001b[0mN\u001b[0m\u001b[0;34m+\u001b[0m\u001b[0;36m1\u001b[0m\u001b[0;34m)\u001b[0m\u001b[0;34m:\u001b[0m\u001b[0;34m\u001b[0m\u001b[0;34m\u001b[0m\u001b[0m\n",
            "\u001b[0;32m<ipython-input-114-c55a051b56e2>\u001b[0m in \u001b[0;36mgd\u001b[0;34m(grad, sg, a, b, c, d, e, f, w, n_epochs, eta)\u001b[0m\n\u001b[1;32m     12\u001b[0m \u001b[0;34m\u001b[0m\u001b[0m\n\u001b[1;32m     13\u001b[0m     \u001b[0;32mfor\u001b[0m \u001b[0mj\u001b[0m \u001b[0;32min\u001b[0m \u001b[0mrange\u001b[0m\u001b[0;34m(\u001b[0m\u001b[0mn_epochs\u001b[0m\u001b[0;34m)\u001b[0m\u001b[0;34m:\u001b[0m\u001b[0;34m\u001b[0m\u001b[0;34m\u001b[0m\u001b[0m\n\u001b[0;32m---> 14\u001b[0;31m          \u001b[0mv\u001b[0m\u001b[0;34m=\u001b[0m\u001b[0meta\u001b[0m\u001b[0;34m*\u001b[0m\u001b[0;34m(\u001b[0m\u001b[0mnp\u001b[0m\u001b[0;34m.\u001b[0m\u001b[0marray\u001b[0m\u001b[0;34m(\u001b[0m\u001b[0mgrad\u001b[0m\u001b[0;34m(\u001b[0m\u001b[0mparams\u001b[0m\u001b[0;34m)\u001b[0m\u001b[0;34m[\u001b[0m\u001b[0;36m0\u001b[0m\u001b[0;34m]\u001b[0m\u001b[0;34m)\u001b[0m\u001b[0;34m)\u001b[0m\u001b[0;34m\u001b[0m\u001b[0;34m\u001b[0m\u001b[0m\n\u001b[0m\u001b[1;32m     15\u001b[0m          \u001b[0mparams\u001b[0m\u001b[0;34m=\u001b[0m\u001b[0mparams\u001b[0m\u001b[0;34m-\u001b[0m\u001b[0mv\u001b[0m\u001b[0;34m\u001b[0m\u001b[0;34m\u001b[0m\u001b[0m\n\u001b[1;32m     16\u001b[0m          \u001b[0mparam_traj\u001b[0m\u001b[0;34m[\u001b[0m\u001b[0mj\u001b[0m\u001b[0;34m+\u001b[0m\u001b[0;36m1\u001b[0m\u001b[0;34m,\u001b[0m\u001b[0;34m]\u001b[0m\u001b[0;34m=\u001b[0m\u001b[0mparams\u001b[0m\u001b[0;34m\u001b[0m\u001b[0;34m\u001b[0m\u001b[0m\n",
            "\u001b[0;32m<ipython-input-113-c26564e32ae2>\u001b[0m in \u001b[0;36mgrad\u001b[0;34m(params)\u001b[0m\n\u001b[1;32m      9\u001b[0m   \u001b[0mw\u001b[0m  \u001b[0;34m=\u001b[0m  \u001b[0mnp\u001b[0m\u001b[0;34m.\u001b[0m\u001b[0marray\u001b[0m\u001b[0;34m(\u001b[0m\u001b[0mnp\u001b[0m\u001b[0;34m.\u001b[0m\u001b[0mresize\u001b[0m\u001b[0;34m(\u001b[0m\u001b[0mparams\u001b[0m\u001b[0;34m[\u001b[0m\u001b[0;36m10\u001b[0m\u001b[0;34m:\u001b[0m\u001b[0;36m14\u001b[0m\u001b[0;34m]\u001b[0m\u001b[0;34m,\u001b[0m\u001b[0;34m(\u001b[0m\u001b[0;36m2\u001b[0m\u001b[0;34m,\u001b[0m\u001b[0;36m2\u001b[0m\u001b[0;34m)\u001b[0m\u001b[0;34m)\u001b[0m\u001b[0;34m)\u001b[0m \u001b[0;31m#\u001b[0m\u001b[0;34m\u001b[0m\u001b[0;34m\u001b[0m\u001b[0m\n\u001b[1;32m     10\u001b[0m   \u001b[0mnewIt\u001b[0m \u001b[0;34m=\u001b[0m \u001b[0;36m1\u001b[0m\u001b[0;34m\u001b[0m\u001b[0;34m\u001b[0m\u001b[0m\n\u001b[0;32m---> 11\u001b[0;31m   \u001b[0mterm1\u001b[0m\u001b[0;34m=\u001b[0m\u001b[0mnp\u001b[0m\u001b[0;34m.\u001b[0m\u001b[0mappend\u001b[0m\u001b[0;34m(\u001b[0m\u001b[0mnp\u001b[0m\u001b[0;34m.\u001b[0m\u001b[0mconcatenate\u001b[0m\u001b[0;34m(\u001b[0m\u001b[0;34m(\u001b[0m\u001b[0mpartialAx\u001b[0m\u001b[0;34m(\u001b[0m\u001b[0mBxa\u001b[0m\u001b[0;34m,\u001b[0m\u001b[0msg\u001b[0m\u001b[0;34m,\u001b[0m\u001b[0ma\u001b[0m\u001b[0;34m,\u001b[0m\u001b[0mb\u001b[0m\u001b[0;34m,\u001b[0m\u001b[0mc\u001b[0m\u001b[0;34m,\u001b[0m\u001b[0md\u001b[0m\u001b[0;34m,\u001b[0m\u001b[0me\u001b[0m\u001b[0;34m,\u001b[0m\u001b[0mf\u001b[0m\u001b[0;34m,\u001b[0m\u001b[0mw\u001b[0m\u001b[0;34m)\u001b[0m\u001b[0;34m,\u001b[0m\u001b[0mpartialAx\u001b[0m\u001b[0;34m(\u001b[0m\u001b[0mBxb\u001b[0m\u001b[0;34m,\u001b[0m\u001b[0msg\u001b[0m\u001b[0;34m,\u001b[0m\u001b[0ma\u001b[0m\u001b[0;34m,\u001b[0m\u001b[0mb\u001b[0m\u001b[0;34m,\u001b[0m\u001b[0mc\u001b[0m\u001b[0;34m,\u001b[0m\u001b[0md\u001b[0m\u001b[0;34m,\u001b[0m\u001b[0me\u001b[0m\u001b[0;34m,\u001b[0m\u001b[0mf\u001b[0m\u001b[0;34m,\u001b[0m\u001b[0mw\u001b[0m\u001b[0;34m)\u001b[0m\u001b[0;34m)\u001b[0m\u001b[0;34m)\u001b[0m\u001b[0;34m,\u001b[0m\u001b[0mpartialAx\u001b[0m\u001b[0;34m(\u001b[0m\u001b[0mBxc\u001b[0m\u001b[0;34m,\u001b[0m\u001b[0msg\u001b[0m\u001b[0;34m,\u001b[0m\u001b[0ma\u001b[0m\u001b[0;34m,\u001b[0m\u001b[0mb\u001b[0m\u001b[0;34m,\u001b[0m\u001b[0mc\u001b[0m\u001b[0;34m,\u001b[0m\u001b[0md\u001b[0m\u001b[0;34m,\u001b[0m\u001b[0me\u001b[0m\u001b[0;34m,\u001b[0m\u001b[0mf\u001b[0m\u001b[0;34m,\u001b[0m\u001b[0mw\u001b[0m\u001b[0;34m)\u001b[0m\u001b[0;34m)\u001b[0m\u001b[0;34m\u001b[0m\u001b[0;34m\u001b[0m\u001b[0m\n\u001b[0m\u001b[1;32m     12\u001b[0m   \u001b[0mterm2\u001b[0m \u001b[0;34m=\u001b[0m \u001b[0mnp\u001b[0m\u001b[0;34m.\u001b[0m\u001b[0mappend\u001b[0m\u001b[0;34m(\u001b[0m\u001b[0mterm1\u001b[0m\u001b[0;34m,\u001b[0m\u001b[0mpartialAx\u001b[0m\u001b[0;34m(\u001b[0m\u001b[0mBxd\u001b[0m\u001b[0;34m,\u001b[0m\u001b[0msg\u001b[0m\u001b[0;34m,\u001b[0m\u001b[0ma\u001b[0m\u001b[0;34m,\u001b[0m\u001b[0mb\u001b[0m\u001b[0;34m,\u001b[0m\u001b[0mc\u001b[0m\u001b[0;34m,\u001b[0m\u001b[0md\u001b[0m\u001b[0;34m,\u001b[0m\u001b[0me\u001b[0m\u001b[0;34m,\u001b[0m\u001b[0mf\u001b[0m\u001b[0;34m,\u001b[0m\u001b[0mw\u001b[0m\u001b[0;34m)\u001b[0m\u001b[0;34m)\u001b[0m\u001b[0;34m\u001b[0m\u001b[0;34m\u001b[0m\u001b[0m\n\u001b[1;32m     13\u001b[0m   \u001b[0mterm3\u001b[0m\u001b[0;34m=\u001b[0m \u001b[0mnp\u001b[0m\u001b[0;34m.\u001b[0m\u001b[0mappend\u001b[0m\u001b[0;34m(\u001b[0m\u001b[0mterm2\u001b[0m\u001b[0;34m,\u001b[0m\u001b[0mpartialAx\u001b[0m\u001b[0;34m(\u001b[0m\u001b[0mBxe\u001b[0m\u001b[0;34m,\u001b[0m\u001b[0msg\u001b[0m\u001b[0;34m,\u001b[0m\u001b[0ma\u001b[0m\u001b[0;34m,\u001b[0m\u001b[0mb\u001b[0m\u001b[0;34m,\u001b[0m\u001b[0mc\u001b[0m\u001b[0;34m,\u001b[0m\u001b[0md\u001b[0m\u001b[0;34m,\u001b[0m\u001b[0me\u001b[0m\u001b[0;34m,\u001b[0m\u001b[0mf\u001b[0m\u001b[0;34m,\u001b[0m\u001b[0mw\u001b[0m\u001b[0;34m)\u001b[0m\u001b[0;34m)\u001b[0m\u001b[0;34m\u001b[0m\u001b[0;34m\u001b[0m\u001b[0m\n",
            "\u001b[0;32m<ipython-input-111-9ec5cd2f234f>\u001b[0m in \u001b[0;36mpartialAx\u001b[0;34m(Bxi, sg, a, b, c, d, e, f, w)\u001b[0m\n\u001b[1;32m      1\u001b[0m \u001b[0;32mdef\u001b[0m \u001b[0mpartialAx\u001b[0m\u001b[0;34m(\u001b[0m\u001b[0mBxi\u001b[0m\u001b[0;34m,\u001b[0m\u001b[0msg\u001b[0m\u001b[0;34m,\u001b[0m\u001b[0ma\u001b[0m\u001b[0;34m,\u001b[0m\u001b[0mb\u001b[0m\u001b[0;34m,\u001b[0m\u001b[0mc\u001b[0m\u001b[0;34m,\u001b[0m\u001b[0md\u001b[0m\u001b[0;34m,\u001b[0m\u001b[0me\u001b[0m\u001b[0;34m,\u001b[0m\u001b[0mf\u001b[0m\u001b[0;34m,\u001b[0m\u001b[0mw\u001b[0m\u001b[0;34m)\u001b[0m\u001b[0;34m:\u001b[0m \u001b[0;31m#partial/partial x_k\u001b[0m\u001b[0;34m\u001b[0m\u001b[0;34m\u001b[0m\u001b[0m\n\u001b[0;32m----> 2\u001b[0;31m   \u001b[0mterm1\u001b[0m \u001b[0;34m=\u001b[0m \u001b[0mAvxx\u001b[0m\u001b[0;34m(\u001b[0m\u001b[0mBxi\u001b[0m\u001b[0;34m,\u001b[0m\u001b[0msg\u001b[0m\u001b[0;34m,\u001b[0m\u001b[0ma\u001b[0m\u001b[0;34m,\u001b[0m\u001b[0mb\u001b[0m\u001b[0;34m,\u001b[0m\u001b[0mc\u001b[0m\u001b[0;34m,\u001b[0m\u001b[0md\u001b[0m\u001b[0;34m,\u001b[0m\u001b[0me\u001b[0m\u001b[0;34m,\u001b[0m\u001b[0mf\u001b[0m\u001b[0;34m,\u001b[0m\u001b[0mw\u001b[0m\u001b[0;34m)\u001b[0m\u001b[0;34m\u001b[0m\u001b[0;34m\u001b[0m\u001b[0m\n\u001b[0m\u001b[1;32m      3\u001b[0m   \u001b[0;32mif\u001b[0m \u001b[0mBxi\u001b[0m \u001b[0;34m==\u001b[0m \u001b[0mBxc\u001b[0m \u001b[0;32mor\u001b[0m \u001b[0mBxi\u001b[0m \u001b[0;34m==\u001b[0m \u001b[0mBxe\u001b[0m\u001b[0;34m:\u001b[0m\u001b[0;34m\u001b[0m\u001b[0;34m\u001b[0m\u001b[0m\n\u001b[1;32m      4\u001b[0m     \u001b[0mterm2\u001b[0m \u001b[0;34m=\u001b[0m \u001b[0mterm1\u001b[0m\u001b[0;34m+\u001b[0m\u001b[0mnp\u001b[0m\u001b[0;34m.\u001b[0m\u001b[0mconjugate\u001b[0m\u001b[0;34m(\u001b[0m\u001b[0mterm1\u001b[0m\u001b[0;34m)\u001b[0m\u001b[0;34m\u001b[0m\u001b[0;34m\u001b[0m\u001b[0m\n\u001b[1;32m      5\u001b[0m   \u001b[0;32melse\u001b[0m\u001b[0;34m:\u001b[0m\u001b[0;34m\u001b[0m\u001b[0;34m\u001b[0m\u001b[0m\n",
            "\u001b[0;32m<ipython-input-109-9e0f3644b7a7>\u001b[0m in \u001b[0;36mAvxx\u001b[0;34m(Bxi, sg, a, b, c, d, e, f, w)\u001b[0m\n\u001b[1;32m      2\u001b[0m   \u001b[0mdenom\u001b[0m\u001b[0;34m=\u001b[0m\u001b[0;36m0\u001b[0m\u001b[0;34m\u001b[0m\u001b[0;34m\u001b[0m\u001b[0m\n\u001b[1;32m      3\u001b[0m   \u001b[0;32mfor\u001b[0m \u001b[0mi\u001b[0m \u001b[0;32min\u001b[0m \u001b[0mrange\u001b[0m\u001b[0;34m(\u001b[0m\u001b[0mx\u001b[0m\u001b[0;34m.\u001b[0m\u001b[0mshape\u001b[0m\u001b[0;34m[\u001b[0m\u001b[0;36m0\u001b[0m\u001b[0;34m]\u001b[0m\u001b[0;34m)\u001b[0m\u001b[0;34m:\u001b[0m\u001b[0;34m\u001b[0m\u001b[0;34m\u001b[0m\u001b[0m\n\u001b[0;32m----> 4\u001b[0;31m     \u001b[0mdenom\u001b[0m\u001b[0;34m+=\u001b[0m \u001b[0mabs\u001b[0m\u001b[0;34m(\u001b[0m\u001b[0mcmath\u001b[0m\u001b[0;34m.\u001b[0m\u001b[0msqrt\u001b[0m\u001b[0;34m(\u001b[0m\u001b[0mpx\u001b[0m\u001b[0;34m(\u001b[0m\u001b[0mx\u001b[0m\u001b[0;34m[\u001b[0m\u001b[0mi\u001b[0m\u001b[0;34m]\u001b[0m\u001b[0;34m,\u001b[0m\u001b[0ma\u001b[0m\u001b[0;34m,\u001b[0m\u001b[0mb\u001b[0m\u001b[0;34m,\u001b[0m\u001b[0mc\u001b[0m\u001b[0;34m,\u001b[0m\u001b[0md\u001b[0m\u001b[0;34m,\u001b[0m\u001b[0me\u001b[0m\u001b[0;34m,\u001b[0m\u001b[0mf\u001b[0m\u001b[0;34m,\u001b[0m\u001b[0mw\u001b[0m\u001b[0;34m)\u001b[0m\u001b[0;34m)\u001b[0m\u001b[0;34m*\u001b[0m\u001b[0;34m(\u001b[0m\u001b[0msx\u001b[0m\u001b[0;34m(\u001b[0m\u001b[0mx\u001b[0m\u001b[0;34m[\u001b[0m\u001b[0mi\u001b[0m\u001b[0;34m]\u001b[0m\u001b[0;34m,\u001b[0m\u001b[0ma\u001b[0m\u001b[0;34m,\u001b[0m\u001b[0mb\u001b[0m\u001b[0;34m,\u001b[0m\u001b[0mc\u001b[0m\u001b[0;34m,\u001b[0m\u001b[0md\u001b[0m\u001b[0;34m,\u001b[0m\u001b[0me\u001b[0m\u001b[0;34m,\u001b[0m\u001b[0mf\u001b[0m\u001b[0;34m,\u001b[0m\u001b[0mw\u001b[0m\u001b[0;34m)\u001b[0m\u001b[0;34m)\u001b[0m\u001b[0;34m)\u001b[0m\u001b[0;34m**\u001b[0m\u001b[0;36m2\u001b[0m\u001b[0;34m\u001b[0m\u001b[0;34m\u001b[0m\u001b[0m\n\u001b[0m\u001b[1;32m      5\u001b[0m \u001b[0;31m####\u001b[0m\u001b[0;34m\u001b[0m\u001b[0;34m\u001b[0m\u001b[0;34m\u001b[0m\u001b[0m\n\u001b[1;32m      6\u001b[0m \u001b[0;34m\u001b[0m\u001b[0m\n",
            "\u001b[0;32m<ipython-input-103-55ad947e222e>\u001b[0m in \u001b[0;36mpx\u001b[0;34m(sg, a, b, c, d, e, f, w)\u001b[0m\n\u001b[1;32m    226\u001b[0m \u001b[0;31m# Transpile for simulator\u001b[0m\u001b[0;34m\u001b[0m\u001b[0;34m\u001b[0m\u001b[0;34m\u001b[0m\u001b[0m\n\u001b[1;32m    227\u001b[0m  \u001b[0msimulator\u001b[0m \u001b[0;34m=\u001b[0m \u001b[0mAer\u001b[0m\u001b[0;34m.\u001b[0m\u001b[0mget_backend\u001b[0m\u001b[0;34m(\u001b[0m\u001b[0;34m'aer_simulator'\u001b[0m\u001b[0;34m)\u001b[0m\u001b[0;34m\u001b[0m\u001b[0;34m\u001b[0m\u001b[0m\n\u001b[0;32m--> 228\u001b[0;31m  \u001b[0mcirc\u001b[0m \u001b[0;34m=\u001b[0m \u001b[0mtranspile\u001b[0m\u001b[0;34m(\u001b[0m\u001b[0mcircuit\u001b[0m\u001b[0;34m,\u001b[0m \u001b[0msimulator\u001b[0m\u001b[0;34m)\u001b[0m\u001b[0;34m\u001b[0m\u001b[0;34m\u001b[0m\u001b[0m\n\u001b[0m\u001b[1;32m    229\u001b[0m \u001b[0;34m\u001b[0m\u001b[0m\n\u001b[1;32m    230\u001b[0m \u001b[0;31m# Run and get counts\u001b[0m\u001b[0;34m\u001b[0m\u001b[0;34m\u001b[0m\u001b[0;34m\u001b[0m\u001b[0m\n",
            "\u001b[0;32m/usr/local/lib/python3.8/dist-packages/qiskit/compiler/transpiler.py\u001b[0m in \u001b[0;36mtranspile\u001b[0;34m(circuits, backend, basis_gates, inst_map, coupling_map, backend_properties, initial_layout, layout_method, routing_method, translation_method, scheduling_method, instruction_durations, dt, approximation_degree, timing_constraints, seed_transpiler, optimization_level, callback, output_name, unitary_synthesis_method, unitary_synthesis_plugin_config, target, hls_config, init_method, optimization_method, ignore_backend_supplied_default_methods)\u001b[0m\n\u001b[1;32m    380\u001b[0m             \u001b[0mtranspile_config\u001b[0m\u001b[0;34m,\u001b[0m \u001b[0mpass_manager\u001b[0m \u001b[0;34m=\u001b[0m \u001b[0m_combine_args\u001b[0m\u001b[0;34m(\u001b[0m\u001b[0mshared_args\u001b[0m\u001b[0;34m,\u001b[0m \u001b[0munique_args\u001b[0m\u001b[0;34m)\u001b[0m\u001b[0;34m\u001b[0m\u001b[0;34m\u001b[0m\u001b[0m\n\u001b[1;32m    381\u001b[0m             output_circuits.append(\n\u001b[0;32m--> 382\u001b[0;31m                 _serial_transpile_circuit(\n\u001b[0m\u001b[1;32m    383\u001b[0m                     \u001b[0mcircuit\u001b[0m\u001b[0;34m,\u001b[0m\u001b[0;34m\u001b[0m\u001b[0;34m\u001b[0m\u001b[0m\n\u001b[1;32m    384\u001b[0m                     \u001b[0mpass_manager\u001b[0m\u001b[0;34m,\u001b[0m\u001b[0;34m\u001b[0m\u001b[0;34m\u001b[0m\u001b[0m\n",
            "\u001b[0;32m/usr/local/lib/python3.8/dist-packages/qiskit/compiler/transpiler.py\u001b[0m in \u001b[0;36m_serial_transpile_circuit\u001b[0;34m(circuit, pass_manager, callback, output_name, num_qubits, faulty_qubits_map, backend_prop)\u001b[0m\n\u001b[1;32m    473\u001b[0m     \u001b[0mbackend_prop\u001b[0m\u001b[0;34m=\u001b[0m\u001b[0;32mNone\u001b[0m\u001b[0;34m,\u001b[0m\u001b[0;34m\u001b[0m\u001b[0;34m\u001b[0m\u001b[0m\n\u001b[1;32m    474\u001b[0m ):\n\u001b[0;32m--> 475\u001b[0;31m     \u001b[0mresult\u001b[0m \u001b[0;34m=\u001b[0m \u001b[0mpass_manager\u001b[0m\u001b[0;34m.\u001b[0m\u001b[0mrun\u001b[0m\u001b[0;34m(\u001b[0m\u001b[0mcircuit\u001b[0m\u001b[0;34m,\u001b[0m \u001b[0mcallback\u001b[0m\u001b[0;34m=\u001b[0m\u001b[0mcallback\u001b[0m\u001b[0;34m,\u001b[0m \u001b[0moutput_name\u001b[0m\u001b[0;34m=\u001b[0m\u001b[0moutput_name\u001b[0m\u001b[0;34m)\u001b[0m\u001b[0;34m\u001b[0m\u001b[0;34m\u001b[0m\u001b[0m\n\u001b[0m\u001b[1;32m    476\u001b[0m     \u001b[0;32mif\u001b[0m \u001b[0mfaulty_qubits_map\u001b[0m\u001b[0;34m:\u001b[0m\u001b[0;34m\u001b[0m\u001b[0;34m\u001b[0m\u001b[0m\n\u001b[1;32m    477\u001b[0m         return _remap_circuit_faulty_backend(\n",
            "\u001b[0;32m/usr/local/lib/python3.8/dist-packages/qiskit/transpiler/passmanager.py\u001b[0m in \u001b[0;36mrun\u001b[0;34m(self, circuits, output_name, callback)\u001b[0m\n\u001b[1;32m    526\u001b[0m     ) -> Union[QuantumCircuit, List[QuantumCircuit]]:\n\u001b[1;32m    527\u001b[0m         \u001b[0mself\u001b[0m\u001b[0;34m.\u001b[0m\u001b[0m_update_passmanager\u001b[0m\u001b[0;34m(\u001b[0m\u001b[0;34m)\u001b[0m\u001b[0;34m\u001b[0m\u001b[0;34m\u001b[0m\u001b[0m\n\u001b[0;32m--> 528\u001b[0;31m         \u001b[0;32mreturn\u001b[0m \u001b[0msuper\u001b[0m\u001b[0;34m(\u001b[0m\u001b[0;34m)\u001b[0m\u001b[0;34m.\u001b[0m\u001b[0mrun\u001b[0m\u001b[0;34m(\u001b[0m\u001b[0mcircuits\u001b[0m\u001b[0;34m,\u001b[0m \u001b[0moutput_name\u001b[0m\u001b[0;34m,\u001b[0m \u001b[0mcallback\u001b[0m\u001b[0;34m)\u001b[0m\u001b[0;34m\u001b[0m\u001b[0;34m\u001b[0m\u001b[0m\n\u001b[0m",
            "\u001b[0;32m/usr/local/lib/python3.8/dist-packages/qiskit/transpiler/passmanager.py\u001b[0m in \u001b[0;36mrun\u001b[0;34m(self, circuits, output_name, callback)\u001b[0m\n\u001b[1;32m    226\u001b[0m             \u001b[0;32mreturn\u001b[0m \u001b[0mcircuits\u001b[0m\u001b[0;34m\u001b[0m\u001b[0;34m\u001b[0m\u001b[0m\n\u001b[1;32m    227\u001b[0m         \u001b[0;32mif\u001b[0m \u001b[0misinstance\u001b[0m\u001b[0;34m(\u001b[0m\u001b[0mcircuits\u001b[0m\u001b[0;34m,\u001b[0m \u001b[0mQuantumCircuit\u001b[0m\u001b[0;34m)\u001b[0m\u001b[0;34m:\u001b[0m\u001b[0;34m\u001b[0m\u001b[0;34m\u001b[0m\u001b[0m\n\u001b[0;32m--> 228\u001b[0;31m             \u001b[0;32mreturn\u001b[0m \u001b[0mself\u001b[0m\u001b[0;34m.\u001b[0m\u001b[0m_run_single_circuit\u001b[0m\u001b[0;34m(\u001b[0m\u001b[0mcircuits\u001b[0m\u001b[0;34m,\u001b[0m \u001b[0moutput_name\u001b[0m\u001b[0;34m,\u001b[0m \u001b[0mcallback\u001b[0m\u001b[0;34m)\u001b[0m\u001b[0;34m\u001b[0m\u001b[0;34m\u001b[0m\u001b[0m\n\u001b[0m\u001b[1;32m    229\u001b[0m         \u001b[0;32mif\u001b[0m \u001b[0mlen\u001b[0m\u001b[0;34m(\u001b[0m\u001b[0mcircuits\u001b[0m\u001b[0;34m)\u001b[0m \u001b[0;34m==\u001b[0m \u001b[0;36m1\u001b[0m\u001b[0;34m:\u001b[0m\u001b[0;34m\u001b[0m\u001b[0;34m\u001b[0m\u001b[0m\n\u001b[1;32m    230\u001b[0m             \u001b[0;32mreturn\u001b[0m \u001b[0mself\u001b[0m\u001b[0;34m.\u001b[0m\u001b[0m_run_single_circuit\u001b[0m\u001b[0;34m(\u001b[0m\u001b[0mcircuits\u001b[0m\u001b[0;34m[\u001b[0m\u001b[0;36m0\u001b[0m\u001b[0;34m]\u001b[0m\u001b[0;34m,\u001b[0m \u001b[0moutput_name\u001b[0m\u001b[0;34m,\u001b[0m \u001b[0mcallback\u001b[0m\u001b[0;34m)\u001b[0m\u001b[0;34m\u001b[0m\u001b[0;34m\u001b[0m\u001b[0m\n",
            "\u001b[0;32m/usr/local/lib/python3.8/dist-packages/qiskit/transpiler/passmanager.py\u001b[0m in \u001b[0;36m_run_single_circuit\u001b[0;34m(self, circuit, output_name, callback)\u001b[0m\n\u001b[1;32m    281\u001b[0m         \"\"\"\n\u001b[1;32m    282\u001b[0m         \u001b[0mrunning_passmanager\u001b[0m \u001b[0;34m=\u001b[0m \u001b[0mself\u001b[0m\u001b[0;34m.\u001b[0m\u001b[0m_create_running_passmanager\u001b[0m\u001b[0;34m(\u001b[0m\u001b[0;34m)\u001b[0m\u001b[0;34m\u001b[0m\u001b[0;34m\u001b[0m\u001b[0m\n\u001b[0;32m--> 283\u001b[0;31m         \u001b[0mresult\u001b[0m \u001b[0;34m=\u001b[0m \u001b[0mrunning_passmanager\u001b[0m\u001b[0;34m.\u001b[0m\u001b[0mrun\u001b[0m\u001b[0;34m(\u001b[0m\u001b[0mcircuit\u001b[0m\u001b[0;34m,\u001b[0m \u001b[0moutput_name\u001b[0m\u001b[0;34m=\u001b[0m\u001b[0moutput_name\u001b[0m\u001b[0;34m,\u001b[0m \u001b[0mcallback\u001b[0m\u001b[0;34m=\u001b[0m\u001b[0mcallback\u001b[0m\u001b[0;34m)\u001b[0m\u001b[0;34m\u001b[0m\u001b[0;34m\u001b[0m\u001b[0m\n\u001b[0m\u001b[1;32m    284\u001b[0m         \u001b[0mself\u001b[0m\u001b[0;34m.\u001b[0m\u001b[0mproperty_set\u001b[0m \u001b[0;34m=\u001b[0m \u001b[0mrunning_passmanager\u001b[0m\u001b[0;34m.\u001b[0m\u001b[0mproperty_set\u001b[0m\u001b[0;34m\u001b[0m\u001b[0;34m\u001b[0m\u001b[0m\n\u001b[1;32m    285\u001b[0m         \u001b[0;32mreturn\u001b[0m \u001b[0mresult\u001b[0m\u001b[0;34m\u001b[0m\u001b[0;34m\u001b[0m\u001b[0m\n",
            "\u001b[0;32m/usr/local/lib/python3.8/dist-packages/qiskit/transpiler/runningpassmanager.py\u001b[0m in \u001b[0;36mrun\u001b[0;34m(***failed resolving arguments***)\u001b[0m\n\u001b[1;32m    123\u001b[0m         \u001b[0;32mfor\u001b[0m \u001b[0mpassset\u001b[0m \u001b[0;32min\u001b[0m \u001b[0mself\u001b[0m\u001b[0;34m.\u001b[0m\u001b[0mworking_list\u001b[0m\u001b[0;34m:\u001b[0m\u001b[0;34m\u001b[0m\u001b[0;34m\u001b[0m\u001b[0m\n\u001b[1;32m    124\u001b[0m             \u001b[0;32mfor\u001b[0m \u001b[0mpass_\u001b[0m \u001b[0;32min\u001b[0m \u001b[0mpassset\u001b[0m\u001b[0;34m:\u001b[0m\u001b[0;34m\u001b[0m\u001b[0;34m\u001b[0m\u001b[0m\n\u001b[0;32m--> 125\u001b[0;31m                 \u001b[0mdag\u001b[0m \u001b[0;34m=\u001b[0m \u001b[0mself\u001b[0m\u001b[0;34m.\u001b[0m\u001b[0m_do_pass\u001b[0m\u001b[0;34m(\u001b[0m\u001b[0mpass_\u001b[0m\u001b[0;34m,\u001b[0m \u001b[0mdag\u001b[0m\u001b[0;34m,\u001b[0m \u001b[0mpassset\u001b[0m\u001b[0;34m.\u001b[0m\u001b[0moptions\u001b[0m\u001b[0;34m)\u001b[0m\u001b[0;34m\u001b[0m\u001b[0;34m\u001b[0m\u001b[0m\n\u001b[0m\u001b[1;32m    126\u001b[0m \u001b[0;34m\u001b[0m\u001b[0m\n\u001b[1;32m    127\u001b[0m         \u001b[0mcircuit\u001b[0m \u001b[0;34m=\u001b[0m \u001b[0mdag_to_circuit\u001b[0m\u001b[0;34m(\u001b[0m\u001b[0mdag\u001b[0m\u001b[0;34m)\u001b[0m\u001b[0;34m\u001b[0m\u001b[0;34m\u001b[0m\u001b[0m\n",
            "\u001b[0;32m/usr/local/lib/python3.8/dist-packages/qiskit/transpiler/runningpassmanager.py\u001b[0m in \u001b[0;36m_do_pass\u001b[0;34m(self, pass_, dag, options)\u001b[0m\n\u001b[1;32m    170\u001b[0m             \u001b[0;31m# Run the pass itself, if not already run\u001b[0m\u001b[0;34m\u001b[0m\u001b[0;34m\u001b[0m\u001b[0;34m\u001b[0m\u001b[0m\n\u001b[1;32m    171\u001b[0m             \u001b[0;32mif\u001b[0m \u001b[0mpass_\u001b[0m \u001b[0;32mnot\u001b[0m \u001b[0;32min\u001b[0m \u001b[0mself\u001b[0m\u001b[0;34m.\u001b[0m\u001b[0mvalid_passes\u001b[0m\u001b[0;34m:\u001b[0m\u001b[0;34m\u001b[0m\u001b[0;34m\u001b[0m\u001b[0m\n\u001b[0;32m--> 172\u001b[0;31m                 \u001b[0mdag\u001b[0m \u001b[0;34m=\u001b[0m \u001b[0mself\u001b[0m\u001b[0;34m.\u001b[0m\u001b[0m_run_this_pass\u001b[0m\u001b[0;34m(\u001b[0m\u001b[0mpass_\u001b[0m\u001b[0;34m,\u001b[0m \u001b[0mdag\u001b[0m\u001b[0;34m)\u001b[0m\u001b[0;34m\u001b[0m\u001b[0;34m\u001b[0m\u001b[0m\n\u001b[0m\u001b[1;32m    173\u001b[0m \u001b[0;34m\u001b[0m\u001b[0m\n\u001b[1;32m    174\u001b[0m                 \u001b[0;31m# update the valid_passes property\u001b[0m\u001b[0;34m\u001b[0m\u001b[0;34m\u001b[0m\u001b[0;34m\u001b[0m\u001b[0m\n",
            "\u001b[0;32m/usr/local/lib/python3.8/dist-packages/qiskit/transpiler/runningpassmanager.py\u001b[0m in \u001b[0;36m_run_this_pass\u001b[0;34m(self, pass_, dag)\u001b[0m\n\u001b[1;32m    199\u001b[0m             \u001b[0;31m# Measure time if we have a callback or logging set\u001b[0m\u001b[0;34m\u001b[0m\u001b[0;34m\u001b[0m\u001b[0;34m\u001b[0m\u001b[0m\n\u001b[1;32m    200\u001b[0m             \u001b[0mstart_time\u001b[0m \u001b[0;34m=\u001b[0m \u001b[0mtime\u001b[0m\u001b[0;34m(\u001b[0m\u001b[0;34m)\u001b[0m\u001b[0;34m\u001b[0m\u001b[0;34m\u001b[0m\u001b[0m\n\u001b[0;32m--> 201\u001b[0;31m             \u001b[0mnew_dag\u001b[0m \u001b[0;34m=\u001b[0m \u001b[0mpass_\u001b[0m\u001b[0;34m.\u001b[0m\u001b[0mrun\u001b[0m\u001b[0;34m(\u001b[0m\u001b[0mdag\u001b[0m\u001b[0;34m)\u001b[0m\u001b[0;34m\u001b[0m\u001b[0;34m\u001b[0m\u001b[0m\n\u001b[0m\u001b[1;32m    202\u001b[0m             \u001b[0mend_time\u001b[0m \u001b[0;34m=\u001b[0m \u001b[0mtime\u001b[0m\u001b[0;34m(\u001b[0m\u001b[0;34m)\u001b[0m\u001b[0;34m\u001b[0m\u001b[0;34m\u001b[0m\u001b[0m\n\u001b[1;32m    203\u001b[0m             \u001b[0mrun_time\u001b[0m \u001b[0;34m=\u001b[0m \u001b[0mend_time\u001b[0m \u001b[0;34m-\u001b[0m \u001b[0mstart_time\u001b[0m\u001b[0;34m\u001b[0m\u001b[0;34m\u001b[0m\u001b[0m\n",
            "\u001b[0;32m/usr/local/lib/python3.8/dist-packages/qiskit/transpiler/passes/utils/control_flow.py\u001b[0m in \u001b[0;36mout\u001b[0;34m(self, dag)\u001b[0m\n\u001b[1;32m     54\u001b[0m         \u001b[0;32mfor\u001b[0m \u001b[0mnode\u001b[0m \u001b[0;32min\u001b[0m \u001b[0mdag\u001b[0m\u001b[0;34m.\u001b[0m\u001b[0mop_nodes\u001b[0m\u001b[0;34m(\u001b[0m\u001b[0mControlFlowOp\u001b[0m\u001b[0;34m)\u001b[0m\u001b[0;34m:\u001b[0m\u001b[0;34m\u001b[0m\u001b[0;34m\u001b[0m\u001b[0m\n\u001b[1;32m     55\u001b[0m             \u001b[0mnode\u001b[0m\u001b[0;34m.\u001b[0m\u001b[0mop\u001b[0m \u001b[0;34m=\u001b[0m \u001b[0mmap_blocks\u001b[0m\u001b[0;34m(\u001b[0m\u001b[0mbound_wrapped_method\u001b[0m\u001b[0;34m,\u001b[0m \u001b[0mnode\u001b[0m\u001b[0;34m.\u001b[0m\u001b[0mop\u001b[0m\u001b[0;34m)\u001b[0m\u001b[0;34m\u001b[0m\u001b[0;34m\u001b[0m\u001b[0m\n\u001b[0;32m---> 56\u001b[0;31m         \u001b[0;32mreturn\u001b[0m \u001b[0mmethod\u001b[0m\u001b[0;34m(\u001b[0m\u001b[0mself\u001b[0m\u001b[0;34m,\u001b[0m \u001b[0mdag\u001b[0m\u001b[0;34m)\u001b[0m\u001b[0;34m\u001b[0m\u001b[0;34m\u001b[0m\u001b[0m\n\u001b[0m\u001b[1;32m     57\u001b[0m \u001b[0;34m\u001b[0m\u001b[0m\n\u001b[1;32m     58\u001b[0m     \u001b[0;32mreturn\u001b[0m \u001b[0mout\u001b[0m\u001b[0;34m\u001b[0m\u001b[0;34m\u001b[0m\u001b[0m\n",
            "\u001b[0;32m/usr/local/lib/python3.8/dist-packages/qiskit/transpiler/passes/optimization/optimize_1q_decomposition.py\u001b[0m in \u001b[0;36mrun\u001b[0;34m(self, dag)\u001b[0m\n\u001b[1;32m    168\u001b[0m                     \u001b[0;32mcontinue\u001b[0m\u001b[0;34m\u001b[0m\u001b[0;34m\u001b[0m\u001b[0m\n\u001b[1;32m    169\u001b[0m \u001b[0;34m\u001b[0m\u001b[0m\n\u001b[0;32m--> 170\u001b[0;31m             \u001b[0mnew_basis\u001b[0m\u001b[0;34m,\u001b[0m \u001b[0mnew_circ\u001b[0m \u001b[0;34m=\u001b[0m \u001b[0mself\u001b[0m\u001b[0;34m.\u001b[0m\u001b[0m_resynthesize_run\u001b[0m\u001b[0;34m(\u001b[0m\u001b[0mrun\u001b[0m\u001b[0;34m)\u001b[0m\u001b[0;34m\u001b[0m\u001b[0;34m\u001b[0m\u001b[0m\n\u001b[0m\u001b[1;32m    171\u001b[0m \u001b[0;34m\u001b[0m\u001b[0m\n\u001b[1;32m    172\u001b[0m             \u001b[0;32mif\u001b[0m \u001b[0mnew_circ\u001b[0m \u001b[0;32mis\u001b[0m \u001b[0;32mnot\u001b[0m \u001b[0;32mNone\u001b[0m \u001b[0;32mand\u001b[0m \u001b[0mself\u001b[0m\u001b[0;34m.\u001b[0m\u001b[0m_substitution_checks\u001b[0m\u001b[0;34m(\u001b[0m\u001b[0mdag\u001b[0m\u001b[0;34m,\u001b[0m \u001b[0mrun\u001b[0m\u001b[0;34m,\u001b[0m \u001b[0mnew_circ\u001b[0m\u001b[0;34m,\u001b[0m \u001b[0mnew_basis\u001b[0m\u001b[0;34m)\u001b[0m\u001b[0;34m:\u001b[0m\u001b[0;34m\u001b[0m\u001b[0;34m\u001b[0m\u001b[0m\n",
            "\u001b[0;32m/usr/local/lib/python3.8/dist-packages/qiskit/transpiler/passes/optimization/optimize_1q_decomposition.py\u001b[0m in \u001b[0;36m_resynthesize_run\u001b[0;34m(self, run)\u001b[0m\n\u001b[1;32m     77\u001b[0m             \u001b[0moperator\u001b[0m \u001b[0;34m=\u001b[0m \u001b[0mgate\u001b[0m\u001b[0;34m.\u001b[0m\u001b[0mop\u001b[0m\u001b[0;34m.\u001b[0m\u001b[0mto_matrix\u001b[0m\u001b[0;34m(\u001b[0m\u001b[0;34m)\u001b[0m\u001b[0;34m.\u001b[0m\u001b[0mdot\u001b[0m\u001b[0;34m(\u001b[0m\u001b[0moperator\u001b[0m\u001b[0;34m)\u001b[0m\u001b[0;34m\u001b[0m\u001b[0;34m\u001b[0m\u001b[0m\n\u001b[1;32m     78\u001b[0m \u001b[0;34m\u001b[0m\u001b[0m\n\u001b[0;32m---> 79\u001b[0;31m         \u001b[0mnew_circs\u001b[0m \u001b[0;34m=\u001b[0m \u001b[0;34m{\u001b[0m\u001b[0mk\u001b[0m\u001b[0;34m:\u001b[0m \u001b[0mv\u001b[0m\u001b[0;34m.\u001b[0m\u001b[0m_decompose\u001b[0m\u001b[0;34m(\u001b[0m\u001b[0moperator\u001b[0m\u001b[0;34m)\u001b[0m \u001b[0;32mfor\u001b[0m \u001b[0mk\u001b[0m\u001b[0;34m,\u001b[0m \u001b[0mv\u001b[0m \u001b[0;32min\u001b[0m \u001b[0mself\u001b[0m\u001b[0;34m.\u001b[0m\u001b[0m_decomposers\u001b[0m\u001b[0;34m.\u001b[0m\u001b[0mitems\u001b[0m\u001b[0;34m(\u001b[0m\u001b[0;34m)\u001b[0m\u001b[0;34m}\u001b[0m\u001b[0;34m\u001b[0m\u001b[0;34m\u001b[0m\u001b[0m\n\u001b[0m\u001b[1;32m     80\u001b[0m \u001b[0;34m\u001b[0m\u001b[0m\n\u001b[1;32m     81\u001b[0m         \u001b[0mnew_basis\u001b[0m\u001b[0;34m,\u001b[0m \u001b[0mnew_circ\u001b[0m \u001b[0;34m=\u001b[0m \u001b[0;32mNone\u001b[0m\u001b[0;34m,\u001b[0m \u001b[0;32mNone\u001b[0m\u001b[0;34m\u001b[0m\u001b[0;34m\u001b[0m\u001b[0m\n",
            "\u001b[0;32m/usr/local/lib/python3.8/dist-packages/qiskit/transpiler/passes/optimization/optimize_1q_decomposition.py\u001b[0m in \u001b[0;36m<dictcomp>\u001b[0;34m(.0)\u001b[0m\n\u001b[1;32m     77\u001b[0m             \u001b[0moperator\u001b[0m \u001b[0;34m=\u001b[0m \u001b[0mgate\u001b[0m\u001b[0;34m.\u001b[0m\u001b[0mop\u001b[0m\u001b[0;34m.\u001b[0m\u001b[0mto_matrix\u001b[0m\u001b[0;34m(\u001b[0m\u001b[0;34m)\u001b[0m\u001b[0;34m.\u001b[0m\u001b[0mdot\u001b[0m\u001b[0;34m(\u001b[0m\u001b[0moperator\u001b[0m\u001b[0;34m)\u001b[0m\u001b[0;34m\u001b[0m\u001b[0;34m\u001b[0m\u001b[0m\n\u001b[1;32m     78\u001b[0m \u001b[0;34m\u001b[0m\u001b[0m\n\u001b[0;32m---> 79\u001b[0;31m         \u001b[0mnew_circs\u001b[0m \u001b[0;34m=\u001b[0m \u001b[0;34m{\u001b[0m\u001b[0mk\u001b[0m\u001b[0;34m:\u001b[0m \u001b[0mv\u001b[0m\u001b[0;34m.\u001b[0m\u001b[0m_decompose\u001b[0m\u001b[0;34m(\u001b[0m\u001b[0moperator\u001b[0m\u001b[0;34m)\u001b[0m \u001b[0;32mfor\u001b[0m \u001b[0mk\u001b[0m\u001b[0;34m,\u001b[0m \u001b[0mv\u001b[0m \u001b[0;32min\u001b[0m \u001b[0mself\u001b[0m\u001b[0;34m.\u001b[0m\u001b[0m_decomposers\u001b[0m\u001b[0;34m.\u001b[0m\u001b[0mitems\u001b[0m\u001b[0;34m(\u001b[0m\u001b[0;34m)\u001b[0m\u001b[0;34m}\u001b[0m\u001b[0;34m\u001b[0m\u001b[0;34m\u001b[0m\u001b[0m\n\u001b[0m\u001b[1;32m     80\u001b[0m \u001b[0;34m\u001b[0m\u001b[0m\n\u001b[1;32m     81\u001b[0m         \u001b[0mnew_basis\u001b[0m\u001b[0;34m,\u001b[0m \u001b[0mnew_circ\u001b[0m \u001b[0;34m=\u001b[0m \u001b[0;32mNone\u001b[0m\u001b[0;34m,\u001b[0m \u001b[0;32mNone\u001b[0m\u001b[0;34m\u001b[0m\u001b[0;34m\u001b[0m\u001b[0m\n",
            "\u001b[0;32m/usr/local/lib/python3.8/dist-packages/qiskit/quantum_info/synthesis/one_qubit_decompose.py\u001b[0m in \u001b[0;36m_decompose\u001b[0;34m(self, unitary, simplify, atol)\u001b[0m\n\u001b[1;32m    164\u001b[0m \u001b[0;34m\u001b[0m\u001b[0m\n\u001b[1;32m    165\u001b[0m     \u001b[0;32mdef\u001b[0m \u001b[0m_decompose\u001b[0m\u001b[0;34m(\u001b[0m\u001b[0mself\u001b[0m\u001b[0;34m,\u001b[0m \u001b[0munitary\u001b[0m\u001b[0;34m,\u001b[0m \u001b[0msimplify\u001b[0m\u001b[0;34m=\u001b[0m\u001b[0;32mTrue\u001b[0m\u001b[0;34m,\u001b[0m \u001b[0matol\u001b[0m\u001b[0;34m=\u001b[0m\u001b[0mDEFAULT_ATOL\u001b[0m\u001b[0;34m)\u001b[0m\u001b[0;34m:\u001b[0m\u001b[0;34m\u001b[0m\u001b[0;34m\u001b[0m\u001b[0m\n\u001b[0;32m--> 166\u001b[0;31m         \u001b[0mtheta\u001b[0m\u001b[0;34m,\u001b[0m \u001b[0mphi\u001b[0m\u001b[0;34m,\u001b[0m \u001b[0mlam\u001b[0m\u001b[0;34m,\u001b[0m \u001b[0mphase\u001b[0m \u001b[0;34m=\u001b[0m \u001b[0mself\u001b[0m\u001b[0;34m.\u001b[0m\u001b[0m_params\u001b[0m\u001b[0;34m(\u001b[0m\u001b[0munitary\u001b[0m\u001b[0;34m)\u001b[0m\u001b[0;34m\u001b[0m\u001b[0;34m\u001b[0m\u001b[0m\n\u001b[0m\u001b[1;32m    167\u001b[0m         \u001b[0mcircuit\u001b[0m \u001b[0;34m=\u001b[0m \u001b[0mself\u001b[0m\u001b[0;34m.\u001b[0m\u001b[0m_circuit\u001b[0m\u001b[0;34m(\u001b[0m\u001b[0mtheta\u001b[0m\u001b[0;34m,\u001b[0m \u001b[0mphi\u001b[0m\u001b[0;34m,\u001b[0m \u001b[0mlam\u001b[0m\u001b[0;34m,\u001b[0m \u001b[0mphase\u001b[0m\u001b[0;34m,\u001b[0m \u001b[0msimplify\u001b[0m\u001b[0;34m=\u001b[0m\u001b[0msimplify\u001b[0m\u001b[0;34m,\u001b[0m \u001b[0matol\u001b[0m\u001b[0;34m=\u001b[0m\u001b[0matol\u001b[0m\u001b[0;34m)\u001b[0m\u001b[0;34m\u001b[0m\u001b[0;34m\u001b[0m\u001b[0m\n\u001b[1;32m    168\u001b[0m         \u001b[0;32mreturn\u001b[0m \u001b[0mcircuit\u001b[0m\u001b[0;34m\u001b[0m\u001b[0;34m\u001b[0m\u001b[0m\n",
            "\u001b[0;32m/usr/local/lib/python3.8/dist-packages/qiskit/quantum_info/synthesis/one_qubit_decompose.py\u001b[0m in \u001b[0;36m_params_u3\u001b[0;34m(mat)\u001b[0m\n\u001b[1;32m    284\u001b[0m         \u001b[0;31m# Since the phase is wrt to a SU matrix we must rescale\u001b[0m\u001b[0;34m\u001b[0m\u001b[0;34m\u001b[0m\u001b[0;34m\u001b[0m\u001b[0m\n\u001b[1;32m    285\u001b[0m         \u001b[0;31m# phase to correct this\u001b[0m\u001b[0;34m\u001b[0m\u001b[0;34m\u001b[0m\u001b[0;34m\u001b[0m\u001b[0m\n\u001b[0;32m--> 286\u001b[0;31m         \u001b[0mtheta\u001b[0m\u001b[0;34m,\u001b[0m \u001b[0mphi\u001b[0m\u001b[0;34m,\u001b[0m \u001b[0mlam\u001b[0m\u001b[0;34m,\u001b[0m \u001b[0mphase\u001b[0m \u001b[0;34m=\u001b[0m \u001b[0mOneQubitEulerDecomposer\u001b[0m\u001b[0;34m.\u001b[0m\u001b[0m_params_zyz\u001b[0m\u001b[0;34m(\u001b[0m\u001b[0mmat\u001b[0m\u001b[0;34m)\u001b[0m\u001b[0;34m\u001b[0m\u001b[0;34m\u001b[0m\u001b[0m\n\u001b[0m\u001b[1;32m    287\u001b[0m         \u001b[0;32mreturn\u001b[0m \u001b[0mtheta\u001b[0m\u001b[0;34m,\u001b[0m \u001b[0mphi\u001b[0m\u001b[0;34m,\u001b[0m \u001b[0mlam\u001b[0m\u001b[0;34m,\u001b[0m \u001b[0mphase\u001b[0m \u001b[0;34m-\u001b[0m \u001b[0;36m0.5\u001b[0m \u001b[0;34m*\u001b[0m \u001b[0;34m(\u001b[0m\u001b[0mphi\u001b[0m \u001b[0;34m+\u001b[0m \u001b[0mlam\u001b[0m\u001b[0;34m)\u001b[0m\u001b[0;34m\u001b[0m\u001b[0;34m\u001b[0m\u001b[0m\n\u001b[1;32m    288\u001b[0m \u001b[0;34m\u001b[0m\u001b[0m\n",
            "\u001b[0;32m/usr/local/lib/python3.8/dist-packages/qiskit/quantum_info/synthesis/one_qubit_decompose.py\u001b[0m in \u001b[0;36m_params_zyz\u001b[0;34m(mat)\u001b[0m\n\u001b[1;32m    225\u001b[0m         \u001b[0;31m# We rescale the input matrix to be special unitary (det(U) = 1)\u001b[0m\u001b[0;34m\u001b[0m\u001b[0;34m\u001b[0m\u001b[0;34m\u001b[0m\u001b[0m\n\u001b[1;32m    226\u001b[0m         \u001b[0;31m# This ensures that the quaternion representation is real\u001b[0m\u001b[0;34m\u001b[0m\u001b[0;34m\u001b[0m\u001b[0;34m\u001b[0m\u001b[0m\n\u001b[0;32m--> 227\u001b[0;31m         \u001b[0mcoeff\u001b[0m \u001b[0;34m=\u001b[0m \u001b[0mla\u001b[0m\u001b[0;34m.\u001b[0m\u001b[0mdet\u001b[0m\u001b[0;34m(\u001b[0m\u001b[0mmat\u001b[0m\u001b[0;34m)\u001b[0m \u001b[0;34m**\u001b[0m \u001b[0;34m(\u001b[0m\u001b[0;34m-\u001b[0m\u001b[0;36m0.5\u001b[0m\u001b[0;34m)\u001b[0m\u001b[0;34m\u001b[0m\u001b[0;34m\u001b[0m\u001b[0m\n\u001b[0m\u001b[1;32m    228\u001b[0m         \u001b[0mphase\u001b[0m \u001b[0;34m=\u001b[0m \u001b[0;34m-\u001b[0m\u001b[0mcmath\u001b[0m\u001b[0;34m.\u001b[0m\u001b[0mphase\u001b[0m\u001b[0;34m(\u001b[0m\u001b[0mcoeff\u001b[0m\u001b[0;34m)\u001b[0m\u001b[0;34m\u001b[0m\u001b[0;34m\u001b[0m\u001b[0m\n\u001b[1;32m    229\u001b[0m         \u001b[0msu_mat\u001b[0m \u001b[0;34m=\u001b[0m \u001b[0mcoeff\u001b[0m \u001b[0;34m*\u001b[0m \u001b[0mmat\u001b[0m  \u001b[0;31m# U in SU(2)\u001b[0m\u001b[0;34m\u001b[0m\u001b[0;34m\u001b[0m\u001b[0m\n",
            "\u001b[0;32m/usr/local/lib/python3.8/dist-packages/scipy/linalg/basic.py\u001b[0m in \u001b[0;36mdet\u001b[0;34m(a, overwrite_a, check_finite)\u001b[0m\n\u001b[1;32m   1021\u001b[0m \u001b[0;34m\u001b[0m\u001b[0m\n\u001b[1;32m   1022\u001b[0m     \"\"\"\n\u001b[0;32m-> 1023\u001b[0;31m     \u001b[0ma1\u001b[0m \u001b[0;34m=\u001b[0m \u001b[0m_asarray_validated\u001b[0m\u001b[0;34m(\u001b[0m\u001b[0ma\u001b[0m\u001b[0;34m,\u001b[0m \u001b[0mcheck_finite\u001b[0m\u001b[0;34m=\u001b[0m\u001b[0mcheck_finite\u001b[0m\u001b[0;34m)\u001b[0m\u001b[0;34m\u001b[0m\u001b[0;34m\u001b[0m\u001b[0m\n\u001b[0m\u001b[1;32m   1024\u001b[0m     \u001b[0;32mif\u001b[0m \u001b[0mlen\u001b[0m\u001b[0;34m(\u001b[0m\u001b[0ma1\u001b[0m\u001b[0;34m.\u001b[0m\u001b[0mshape\u001b[0m\u001b[0;34m)\u001b[0m \u001b[0;34m!=\u001b[0m \u001b[0;36m2\u001b[0m \u001b[0;32mor\u001b[0m \u001b[0ma1\u001b[0m\u001b[0;34m.\u001b[0m\u001b[0mshape\u001b[0m\u001b[0;34m[\u001b[0m\u001b[0;36m0\u001b[0m\u001b[0;34m]\u001b[0m \u001b[0;34m!=\u001b[0m \u001b[0ma1\u001b[0m\u001b[0;34m.\u001b[0m\u001b[0mshape\u001b[0m\u001b[0;34m[\u001b[0m\u001b[0;36m1\u001b[0m\u001b[0;34m]\u001b[0m\u001b[0;34m:\u001b[0m\u001b[0;34m\u001b[0m\u001b[0;34m\u001b[0m\u001b[0m\n\u001b[1;32m   1025\u001b[0m         \u001b[0;32mraise\u001b[0m \u001b[0mValueError\u001b[0m\u001b[0;34m(\u001b[0m\u001b[0;34m'expected square matrix'\u001b[0m\u001b[0;34m)\u001b[0m\u001b[0;34m\u001b[0m\u001b[0;34m\u001b[0m\u001b[0m\n",
            "\u001b[0;32m/usr/local/lib/python3.8/dist-packages/scipy/_lib/_util.py\u001b[0m in \u001b[0;36m_asarray_validated\u001b[0;34m(a, check_finite, sparse_ok, objects_ok, mask_ok, as_inexact)\u001b[0m\n\u001b[1;32m    291\u001b[0m             \u001b[0;32mraise\u001b[0m \u001b[0mValueError\u001b[0m\u001b[0;34m(\u001b[0m\u001b[0;34m'masked arrays are not supported'\u001b[0m\u001b[0;34m)\u001b[0m\u001b[0;34m\u001b[0m\u001b[0;34m\u001b[0m\u001b[0m\n\u001b[1;32m    292\u001b[0m     \u001b[0mtoarray\u001b[0m \u001b[0;34m=\u001b[0m \u001b[0mnp\u001b[0m\u001b[0;34m.\u001b[0m\u001b[0masarray_chkfinite\u001b[0m \u001b[0;32mif\u001b[0m \u001b[0mcheck_finite\u001b[0m \u001b[0;32melse\u001b[0m \u001b[0mnp\u001b[0m\u001b[0;34m.\u001b[0m\u001b[0masarray\u001b[0m\u001b[0;34m\u001b[0m\u001b[0;34m\u001b[0m\u001b[0m\n\u001b[0;32m--> 293\u001b[0;31m     \u001b[0ma\u001b[0m \u001b[0;34m=\u001b[0m \u001b[0mtoarray\u001b[0m\u001b[0;34m(\u001b[0m\u001b[0ma\u001b[0m\u001b[0;34m)\u001b[0m\u001b[0;34m\u001b[0m\u001b[0;34m\u001b[0m\u001b[0m\n\u001b[0m\u001b[1;32m    294\u001b[0m     \u001b[0;32mif\u001b[0m \u001b[0;32mnot\u001b[0m \u001b[0mobjects_ok\u001b[0m\u001b[0;34m:\u001b[0m\u001b[0;34m\u001b[0m\u001b[0;34m\u001b[0m\u001b[0m\n\u001b[1;32m    295\u001b[0m         \u001b[0;32mif\u001b[0m \u001b[0ma\u001b[0m\u001b[0;34m.\u001b[0m\u001b[0mdtype\u001b[0m \u001b[0;32mis\u001b[0m \u001b[0mnp\u001b[0m\u001b[0;34m.\u001b[0m\u001b[0mdtype\u001b[0m\u001b[0;34m(\u001b[0m\u001b[0;34m'O'\u001b[0m\u001b[0;34m)\u001b[0m\u001b[0;34m:\u001b[0m\u001b[0;34m\u001b[0m\u001b[0;34m\u001b[0m\u001b[0m\n",
            "\u001b[0;32m/usr/local/lib/python3.8/dist-packages/numpy/lib/function_base.py\u001b[0m in \u001b[0;36masarray_chkfinite\u001b[0;34m(a, dtype, order)\u001b[0m\n\u001b[1;32m    486\u001b[0m     \u001b[0ma\u001b[0m \u001b[0;34m=\u001b[0m \u001b[0masarray\u001b[0m\u001b[0;34m(\u001b[0m\u001b[0ma\u001b[0m\u001b[0;34m,\u001b[0m \u001b[0mdtype\u001b[0m\u001b[0;34m=\u001b[0m\u001b[0mdtype\u001b[0m\u001b[0;34m,\u001b[0m \u001b[0morder\u001b[0m\u001b[0;34m=\u001b[0m\u001b[0morder\u001b[0m\u001b[0;34m)\u001b[0m\u001b[0;34m\u001b[0m\u001b[0;34m\u001b[0m\u001b[0m\n\u001b[1;32m    487\u001b[0m     \u001b[0;32mif\u001b[0m \u001b[0ma\u001b[0m\u001b[0;34m.\u001b[0m\u001b[0mdtype\u001b[0m\u001b[0;34m.\u001b[0m\u001b[0mchar\u001b[0m \u001b[0;32min\u001b[0m \u001b[0mtypecodes\u001b[0m\u001b[0;34m[\u001b[0m\u001b[0;34m'AllFloat'\u001b[0m\u001b[0;34m]\u001b[0m \u001b[0;32mand\u001b[0m \u001b[0;32mnot\u001b[0m \u001b[0mnp\u001b[0m\u001b[0;34m.\u001b[0m\u001b[0misfinite\u001b[0m\u001b[0;34m(\u001b[0m\u001b[0ma\u001b[0m\u001b[0;34m)\u001b[0m\u001b[0;34m.\u001b[0m\u001b[0mall\u001b[0m\u001b[0;34m(\u001b[0m\u001b[0;34m)\u001b[0m\u001b[0;34m:\u001b[0m\u001b[0;34m\u001b[0m\u001b[0;34m\u001b[0m\u001b[0m\n\u001b[0;32m--> 488\u001b[0;31m         raise ValueError(\n\u001b[0m\u001b[1;32m    489\u001b[0m             \"array must not contain infs or NaNs\")\n\u001b[1;32m    490\u001b[0m     \u001b[0;32mreturn\u001b[0m \u001b[0ma\u001b[0m\u001b[0;34m\u001b[0m\u001b[0;34m\u001b[0m\u001b[0m\n",
            "\u001b[0;31mValueError\u001b[0m: array must not contain infs or NaNs"
          ]
        }
      ]
    },
    {
      "cell_type": "code",
      "source": [
        "## checking consistency of p(x)\n",
        "params = np.array([-4.90871201, -3.94664906,  2.69956987, -1.7012768, -5.   , 1.64777324,\n",
        "  0.05742938, -3.86198992, -3.58386635 ,-0.98571219,  1.19666579, -3.17488808,\n",
        "  0.43581144 , 3.49859982])\n",
        "print(getPhi(params))\n"
      ],
      "metadata": {
        "id": "gtImSa8Tx57i",
        "colab": {
          "base_uri": "https://localhost:8080/"
        },
        "outputId": "36cb5b38-3a26-479b-cecf-4a02912e4269"
      },
      "id": "gtImSa8Tx57i",
      "execution_count": 116,
      "outputs": [
        {
          "output_type": "stream",
          "name": "stdout",
          "text": [
            "[-0.99999684+0.00251514j  0.        -0.j          0.        -0.j\n",
            "  0.        +0.j        ]\n"
          ]
        }
      ]
    },
    {
      "cell_type": "code",
      "source": [
        "K=Gamma\n",
        "AvAp(([-0.20880033, -0.67927266  ,1.53638286 ,-0.13445333 -1.   ,       0.30143735,\n",
        "  1.90830312, -0.67785334  ,0.38921344 , 0.97363198 , 1.74683136 ,-0.51135974,\n",
        " -1.78990381 ,-0.00897839]))"
      ],
      "metadata": {
        "colab": {
          "base_uri": "https://localhost:8080/"
        },
        "id": "aPrhW51FU-W2",
        "outputId": "ccbea6f6-5cd1-48ac-8fb1-c6fe527a22f7"
      },
      "id": "aPrhW51FU-W2",
      "execution_count": 117,
      "outputs": [
        {
          "output_type": "execute_result",
          "data": {
            "text/plain": [
              "(0.5780000000000002+0j)"
            ]
          },
          "metadata": {},
          "execution_count": 117
        }
      ]
    },
    {
      "cell_type": "code",
      "source": [
        "# Using Adam instead of Gradient descent\n",
        "K = KK\n",
        "def objective(params):\n",
        "\n",
        "  a  =  np.array(params[0:2])\n",
        "  sg = a\n",
        "  b  =  np.array(params[2:4])\n",
        "  c  =  np.array(params[4])\n",
        "  d  =  np.array(params[5:7])\n",
        "  e  =  np.array(params[7])\n",
        "  f  =  np.array(params[8:10])\n",
        "  w  =  np.array(np.resize(params[10:14],(2,2)))\n",
        "  return AvA (sg,a,b,c,d,e,f,w).real\n",
        " \n",
        "# derivative of objective function\n",
        "def derivative(params):\n",
        "\treturn grad(params) ###RRR\n",
        " \n",
        "# gradient descent algorithm with adam\n",
        "def adam(objective, derivative, bounds, n_iter, alpha, beta1, beta2, eps=1e-8):\n",
        "  \n",
        "\t# generate an initial point\n",
        "\tparams = np.array([ 0.5517925 ,  1.66022419 ,-1.71563941 , 1.84781715 , 1.01328545 ,-1.89106584,\n",
        " -2.80770268 , 0.23243057,  1.89385817  ,1.55012302 , 1.06453638 , 0.34460442,\n",
        " -2.31277239 ,-0.47945835])\n",
        "\n",
        "\t# initialize first and second moments\n",
        "\tm = [0.0 for _ in range(bounds.shape[0])]\n",
        "\tv = [0.0 for _ in range(bounds.shape[0])]\n",
        "\tparamtraj=np.zeros((n_iter+1,params.shape[0]))\n",
        "\tparamtraj[0]=params\n",
        "\t# run the gradient descent updates\n",
        "\tscore = np.zeros(n_iter+1)\n",
        "\tscore[0] = objective(params)  ####RRR\n",
        "\tfor t in range(n_iter):\n",
        "\t\t# calculate gradient g(t)\n",
        "\t\tg = derivative(params)  #######RRRR\n",
        "\t\t# build a solution one variable at a time\n",
        "\t\tfor i in range(params.shape[0]):\n",
        "\t\t\t# m(t) = beta1 * m(t-1) + (1 - beta1) * g(t)\n",
        "\t\t\tm[i] = beta1 * m[i] + (1.0 - beta1) * g[i]  #\n",
        "\t\t\t# v(t) = beta2 * v(t-1) + (1 - beta2) * g(t)^2\n",
        "\t\t\tv[i] = beta2 * v[i] + (1.0 - beta2) * g[i]**2\n",
        "\t\t\t# mhat(t) = m(t) / (1 - beta1(t))\n",
        "\t\t\tmhat = m[i] / (1.0 - beta1**(t+1))\n",
        "\t\t\t# vhat(t) = v(t) / (1 - beta2(t))\n",
        "\t\t\tvhat = v[i] / (1.0 - beta2**(t+1))\n",
        "\t\t\t# x(t) = x(t-1) - alpha * mhat(t) / (sqrt(vhat(t)) + eps)\n",
        "\t\t\tparams[i] = params[i] - alpha * mhat / (sqrt(vhat) + eps)\n",
        "\t    \n",
        "\n",
        "\n",
        "\t\t# evaluate candidate point\n",
        "\t\tscore[t+1] = objective(params)  ######3RRRR\n",
        "\t\tparamtraj[t]=params\n",
        "\t\t# report progress\n",
        "\t\t#print('>%d f(%s) = %.5f' % (t, x, score))\n",
        "\treturn paramtraj, score\n",
        " \n",
        "# define range for input\n",
        "r=5\n",
        "l=-5\n",
        "bounds = np.array([[l, r],[l, r],[l, r],[l, r],[l, r]\n",
        "                   ,[l, r],[l, r],[l, r],[l, r],[l, r]\n",
        "\t\t\t\t\t\t\t\t\t ,[l, r],[l, r],[l, r],[l, r]])\n",
        "# define the total iterations\n",
        "n_iter = 500\n",
        "# steps size\n",
        "eta = 0.001\n",
        "# factor for average gradient\n",
        "beta1 = 0.999\n",
        "# factor for average squared gradient\n",
        "beta2 = 0.9\n",
        "# perform the gradient descent search with adam\n",
        "GD = adam(objective, derivative, bounds, n_iter, eta, beta1, beta2)\n",
        "#best = GD[0].index(np.min(GD[1]))\n",
        "#minE = GD[1].index(np.min(GD[1]))\n",
        "print(np.min(GD[1]))\n",
        "\n",
        "print(type(GD[1]))\n",
        "print('Done!')\n",
        "#print('f(%s) = %f' % (best, minE))\n",
        "#print(getPhi(best))\n",
        "\n",
        "\n",
        " \n",
        " \n",
        "plt.plot(GD[1])\n",
        "plt.show()"
      ],
      "metadata": {
        "id": "h0qDSBWFwmhN",
        "colab": {
          "base_uri": "https://localhost:8080/",
          "height": 317
        },
        "outputId": "d5552466-de63-4c50-e783-7fd775b491d2"
      },
      "id": "h0qDSBWFwmhN",
      "execution_count": 166,
      "outputs": [
        {
          "output_type": "stream",
          "name": "stdout",
          "text": [
            "0.4039544399812653\n",
            "<class 'numpy.ndarray'>\n",
            "Done!\n"
          ]
        },
        {
          "output_type": "display_data",
          "data": {
            "text/plain": [
              "<Figure size 432x288 with 1 Axes>"
            ],
            "image/png": "[encoded data removed]"
          },
          "metadata": {
            "needs_background": "light"
          }
        }
      ]
    },
    {
      "cell_type": "code",
      "source": [
        "print(np.argmin(GD[1])) \n",
        "print(GD[0][np.argmin(GD[1])])\n",
        "print(GD[1][np.argmin(GD[1])])"
      ],
      "metadata": {
        "colab": {
          "base_uri": "https://localhost:8080/"
        },
        "id": "v5BNVPyar3X-",
        "outputId": "29e38dbb-b3a3-4d53-bca5-232bf4bc2906"
      },
      "id": "v5BNVPyar3X-",
      "execution_count": 167,
      "outputs": [
        {
          "output_type": "stream",
          "name": "stdout",
          "text": [
            "79\n",
            "[ 0.47533461  1.58272078 -1.63900963  1.77192324  0.96172206 -1.83641699\n",
            " -2.86152048  0.29116664  1.83272364  1.60495546  1.14140651  2.2685238\n",
            " -2.23628248 -0.55603557]\n",
            "0.4039544399812653\n"
          ]
        }
      ]
    },
    {
      "cell_type": "code",
      "source": [
        "#Random search for good initial conditions\n",
        "K=KK\n",
        "k=2\n",
        "l=2\n",
        "min=10\n",
        "for i in range(200):\n",
        "  sg= np.ones(2)\n",
        "\n",
        "  a = np.array([ random.random()*2*k-l,random.random()*2*k-l])\n",
        "  b =  np.array( [random.random()*2*k-l,random.random()*2*k-l])\n",
        "  c=random.randint(-8,8)\n",
        "  d = np.array([ random.random()*2*k-l,random.random()*2*k-l])\n",
        "  e=random.random()*2*k-l\n",
        "  f= [random.random()*2*k-l,random.random()*2*k-l]\n",
        "  w = np.array([[random.random()*2*k-l,random.random()*2*k-l],[ random.random()*2*k-l,random.random()*2*k-l]])\n",
        "  newIt=1\n",
        "  #print(AvA(sg,a,b,c,d,e,f,w))\n",
        "  \n",
        "  if AvA(sg,a,b,c,d,e,f,w)<min:\n",
        "    min = AvA(sg,a,b,c,d,e,f,w)\n",
        "    term1=np.append(np.concatenate((a,b)),c) \n",
        "    term2 = np.append(term1,d)\n",
        "    term3=np.append(term2,e)\n",
        "    term4 = np.append(term3,f)\n",
        "    opt = np.append(term4,w)\n",
        "  if min < -2:\n",
        "    break\n",
        "print(\"    \")\n",
        "print(opt,min)"
      ],
      "metadata": {
        "id": "j8MNtjETkTaG",
        "colab": {
          "base_uri": "https://localhost:8080/"
        },
        "outputId": "30791000-8023-427c-cad2-576bd58dbd19"
      },
      "id": "j8MNtjETkTaG",
      "execution_count": 169,
      "outputs": [
        {
          "output_type": "stream",
          "name": "stdout",
          "text": [
            "    \n",
            "[ 1.69375497  1.79394681  0.89622898 -1.02928244  0.         -1.47283807\n",
            "  1.06359361  0.59484268 -0.62972443 -1.19099808 -1.1264623   1.65725401\n",
            "  1.99164701 -0.24768984] (0.5116763253347983-9.941496428839432e-17j)\n"
          ]
        }
      ]
    },
    {
      "cell_type": "code",
      "source": [],
      "metadata": {
        "id": "YWmDhX9_wT3k"
      },
      "id": "YWmDhX9_wT3k",
      "execution_count": 119,
      "outputs": []
    }
  ],
  "metadata": {
    "kernelspec": {
      "display_name": "Python 3 (ipykernel)",
      "language": "python",
      "name": "python3"
    },
    "language_info": {
      "codemirror_mode": {
        "name": "ipython",
        "version": 3
      },
      "file_extension": ".py",
      "mimetype": "text/x-python",
      "name": "python",
      "nbconvert_exporter": "python",
      "pygments_lexer": "ipython3",
      "version": "3.8.13"
    },
    "colab": {
      "provenance": []
    }
  },
  "nbformat": 4,
  "nbformat_minor": 5
}